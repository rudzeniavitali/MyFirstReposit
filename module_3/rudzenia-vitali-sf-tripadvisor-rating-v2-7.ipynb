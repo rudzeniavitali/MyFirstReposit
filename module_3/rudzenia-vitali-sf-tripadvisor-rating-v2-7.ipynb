{
 "cells": [
  {
   "cell_type": "code",
   "execution_count": 1,
   "id": "funny-housing",
   "metadata": {
    "_cell_guid": "b1076dfc-b9ad-4769-8c92-a6c4dae69d19",
    "_uuid": "8f2839f25d086af736a60e9eeb907d3b93b6e0e5",
    "execution": {
     "iopub.execute_input": "2021-05-23T08:38:54.160479Z",
     "iopub.status.busy": "2021-05-23T08:38:54.159483Z",
     "iopub.status.idle": "2021-05-23T08:38:55.179817Z",
     "shell.execute_reply": "2021-05-23T08:38:55.180318Z"
    },
    "papermill": {
     "duration": 1.079063,
     "end_time": "2021-05-23T08:38:55.180655",
     "exception": false,
     "start_time": "2021-05-23T08:38:54.101592",
     "status": "completed"
    },
    "tags": []
   },
   "outputs": [
    {
     "name": "stdout",
     "output_type": "stream",
     "text": [
      "/kaggle/input/sf-dst-restaurant-rating/sample_submission.csv\n",
      "/kaggle/input/sf-dst-restaurant-rating/main_task.csv\n",
      "/kaggle/input/sf-dst-restaurant-rating/kaggle_task.csv\n"
     ]
    }
   ],
   "source": [
    "# This Python 3 environment comes with many helpful analytics libraries installed\n",
    "# It is defined by the kaggle/python Docker image: https://github.com/kaggle/docker-python\n",
    "# For example, here's several helpful packages to load\n",
    "\n",
    "import numpy as np # linear algebra\n",
    "import pandas as pd # data processing, CSV file I/O (e.g. pd.read_csv)\n",
    "\n",
    "# Input data files are available in the read-only \"../input/\" directory\n",
    "# For example, running this (by clicking run or pressing Shift+Enter) will list all files under the input directory\n",
    "\n",
    "import os\n",
    "for dirname, _, filenames in os.walk('/kaggle/input'):\n",
    "    for filename in filenames:\n",
    "        print(os.path.join(dirname, filename))\n",
    "\n",
    "# You can write up to 20GB to the current directory (/kaggle/working/) that gets preserved as output when you create a version using \"Save & Run All\" \n",
    "# You can also write temporary files to /kaggle/temp/, but they won't be saved outside of the current session\n",
    "\n",
    "import matplotlib.pyplot as plt\n",
    "import seaborn as sns\n",
    "from collections import Counter\n",
    "\n",
    "from sklearn.model_selection import train_test_split"
   ]
  },
  {
   "cell_type": "code",
   "execution_count": 2,
   "id": "recent-ideal",
   "metadata": {
    "execution": {
     "iopub.execute_input": "2021-05-23T08:38:55.270753Z",
     "iopub.status.busy": "2021-05-23T08:38:55.270117Z",
     "iopub.status.idle": "2021-05-23T08:38:55.274714Z",
     "shell.execute_reply": "2021-05-23T08:38:55.274190Z"
    },
    "papermill": {
     "duration": 0.050112,
     "end_time": "2021-05-23T08:38:55.274863",
     "exception": false,
     "start_time": "2021-05-23T08:38:55.224751",
     "status": "completed"
    },
    "tags": []
   },
   "outputs": [],
   "source": [
    "# always fix RANDOM_SEED to keep your experiments reproducible!\n",
    "RANDOM_SEED = 42"
   ]
  },
  {
   "cell_type": "code",
   "execution_count": 3,
   "id": "major-video",
   "metadata": {
    "execution": {
     "iopub.execute_input": "2021-05-23T08:38:55.396617Z",
     "iopub.status.busy": "2021-05-23T08:38:55.395899Z",
     "iopub.status.idle": "2021-05-23T08:38:58.069562Z",
     "shell.execute_reply": "2021-05-23T08:38:58.068954Z"
    },
    "papermill": {
     "duration": 2.739668,
     "end_time": "2021-05-23T08:38:58.069716",
     "exception": false,
     "start_time": "2021-05-23T08:38:55.330048",
     "status": "completed"
    },
    "tags": []
   },
   "outputs": [],
   "source": [
    "# fix the version of the packages so that the experiments are reproducible:\n",
    "!pip freeze > requirements.txt"
   ]
  },
  {
   "cell_type": "code",
   "execution_count": 4,
   "id": "immediate-thought",
   "metadata": {
    "execution": {
     "iopub.execute_input": "2021-05-23T08:38:58.163308Z",
     "iopub.status.busy": "2021-05-23T08:38:58.162655Z",
     "iopub.status.idle": "2021-05-23T08:38:58.703012Z",
     "shell.execute_reply": "2021-05-23T08:38:58.702345Z"
    },
    "papermill": {
     "duration": 0.590144,
     "end_time": "2021-05-23T08:38:58.703172",
     "exception": false,
     "start_time": "2021-05-23T08:38:58.113028",
     "status": "completed"
    },
    "tags": []
   },
   "outputs": [],
   "source": [
    "DATA_DIR = '/kaggle/input/sf-dst-restaurant-rating/'\n",
    "df_train = pd.read_csv(DATA_DIR+'/main_task.csv')\n",
    "df_test = pd.read_csv(DATA_DIR+'kaggle_task.csv')\n",
    "sample_submission = pd.read_csv(DATA_DIR+'/sample_submission.csv')"
   ]
  },
  {
   "cell_type": "code",
   "execution_count": 5,
   "id": "uniform-insurance",
   "metadata": {
    "execution": {
     "iopub.execute_input": "2021-05-23T08:38:58.799434Z",
     "iopub.status.busy": "2021-05-23T08:38:58.798808Z",
     "iopub.status.idle": "2021-05-23T08:38:58.846068Z",
     "shell.execute_reply": "2021-05-23T08:38:58.846782Z"
    },
    "papermill": {
     "duration": 0.099824,
     "end_time": "2021-05-23T08:38:58.846957",
     "exception": false,
     "start_time": "2021-05-23T08:38:58.747133",
     "status": "completed"
    },
    "tags": []
   },
   "outputs": [
    {
     "name": "stdout",
     "output_type": "stream",
     "text": [
      "<class 'pandas.core.frame.DataFrame'>\n",
      "RangeIndex: 40000 entries, 0 to 39999\n",
      "Data columns (total 10 columns):\n",
      " #   Column             Non-Null Count  Dtype  \n",
      "---  ------             --------------  -----  \n",
      " 0   Restaurant_id      40000 non-null  object \n",
      " 1   City               40000 non-null  object \n",
      " 2   Cuisine Style      30717 non-null  object \n",
      " 3   Ranking            40000 non-null  float64\n",
      " 4   Rating             40000 non-null  float64\n",
      " 5   Price Range        26114 non-null  object \n",
      " 6   Number of Reviews  37457 non-null  float64\n",
      " 7   Reviews            40000 non-null  object \n",
      " 8   URL_TA             40000 non-null  object \n",
      " 9   ID_TA              40000 non-null  object \n",
      "dtypes: float64(3), object(7)\n",
      "memory usage: 3.1+ MB\n"
     ]
    }
   ],
   "source": [
    "df_train.info()"
   ]
  },
  {
   "cell_type": "code",
   "execution_count": 6,
   "id": "hundred-habitat",
   "metadata": {
    "execution": {
     "iopub.execute_input": "2021-05-23T08:38:58.937455Z",
     "iopub.status.busy": "2021-05-23T08:38:58.936833Z",
     "iopub.status.idle": "2021-05-23T08:38:58.963679Z",
     "shell.execute_reply": "2021-05-23T08:38:58.963040Z"
    },
    "papermill": {
     "duration": 0.073114,
     "end_time": "2021-05-23T08:38:58.963826",
     "exception": false,
     "start_time": "2021-05-23T08:38:58.890712",
     "status": "completed"
    },
    "tags": []
   },
   "outputs": [
    {
     "data": {
      "text/html": [
       "<div>\n",
       "<style scoped>\n",
       "    .dataframe tbody tr th:only-of-type {\n",
       "        vertical-align: middle;\n",
       "    }\n",
       "\n",
       "    .dataframe tbody tr th {\n",
       "        vertical-align: top;\n",
       "    }\n",
       "\n",
       "    .dataframe thead th {\n",
       "        text-align: right;\n",
       "    }\n",
       "</style>\n",
       "<table border=\"1\" class=\"dataframe\">\n",
       "  <thead>\n",
       "    <tr style=\"text-align: right;\">\n",
       "      <th></th>\n",
       "      <th>Restaurant_id</th>\n",
       "      <th>City</th>\n",
       "      <th>Cuisine Style</th>\n",
       "      <th>Ranking</th>\n",
       "      <th>Rating</th>\n",
       "      <th>Price Range</th>\n",
       "      <th>Number of Reviews</th>\n",
       "      <th>Reviews</th>\n",
       "      <th>URL_TA</th>\n",
       "      <th>ID_TA</th>\n",
       "    </tr>\n",
       "  </thead>\n",
       "  <tbody>\n",
       "    <tr>\n",
       "      <th>0</th>\n",
       "      <td>id_5569</td>\n",
       "      <td>Paris</td>\n",
       "      <td>['European', 'French', 'International']</td>\n",
       "      <td>5570.0</td>\n",
       "      <td>3.5</td>\n",
       "      <td>$$ - $$$</td>\n",
       "      <td>194.0</td>\n",
       "      <td>[['Good food at your doorstep', 'A good hotel ...</td>\n",
       "      <td>/Restaurant_Review-g187147-d1912643-Reviews-R_...</td>\n",
       "      <td>d1912643</td>\n",
       "    </tr>\n",
       "    <tr>\n",
       "      <th>1</th>\n",
       "      <td>id_1535</td>\n",
       "      <td>Stockholm</td>\n",
       "      <td>NaN</td>\n",
       "      <td>1537.0</td>\n",
       "      <td>4.0</td>\n",
       "      <td>NaN</td>\n",
       "      <td>10.0</td>\n",
       "      <td>[['Unique cuisine', 'Delicious Nepalese food']...</td>\n",
       "      <td>/Restaurant_Review-g189852-d7992032-Reviews-Bu...</td>\n",
       "      <td>d7992032</td>\n",
       "    </tr>\n",
       "    <tr>\n",
       "      <th>2</th>\n",
       "      <td>id_352</td>\n",
       "      <td>London</td>\n",
       "      <td>['Japanese', 'Sushi', 'Asian', 'Grill', 'Veget...</td>\n",
       "      <td>353.0</td>\n",
       "      <td>4.5</td>\n",
       "      <td>$$$$</td>\n",
       "      <td>688.0</td>\n",
       "      <td>[['Catch up with friends', 'Not exceptional'],...</td>\n",
       "      <td>/Restaurant_Review-g186338-d8632781-Reviews-RO...</td>\n",
       "      <td>d8632781</td>\n",
       "    </tr>\n",
       "    <tr>\n",
       "      <th>3</th>\n",
       "      <td>id_3456</td>\n",
       "      <td>Berlin</td>\n",
       "      <td>NaN</td>\n",
       "      <td>3458.0</td>\n",
       "      <td>5.0</td>\n",
       "      <td>NaN</td>\n",
       "      <td>3.0</td>\n",
       "      <td>[[], []]</td>\n",
       "      <td>/Restaurant_Review-g187323-d1358776-Reviews-Es...</td>\n",
       "      <td>d1358776</td>\n",
       "    </tr>\n",
       "    <tr>\n",
       "      <th>4</th>\n",
       "      <td>id_615</td>\n",
       "      <td>Munich</td>\n",
       "      <td>['German', 'Central European', 'Vegetarian Fri...</td>\n",
       "      <td>621.0</td>\n",
       "      <td>4.0</td>\n",
       "      <td>$$ - $$$</td>\n",
       "      <td>84.0</td>\n",
       "      <td>[['Best place to try a Bavarian food', 'Nice b...</td>\n",
       "      <td>/Restaurant_Review-g187309-d6864963-Reviews-Au...</td>\n",
       "      <td>d6864963</td>\n",
       "    </tr>\n",
       "  </tbody>\n",
       "</table>\n",
       "</div>"
      ],
      "text/plain": [
       "  Restaurant_id       City                                      Cuisine Style  \\\n",
       "0       id_5569      Paris            ['European', 'French', 'International']   \n",
       "1       id_1535  Stockholm                                                NaN   \n",
       "2        id_352     London  ['Japanese', 'Sushi', 'Asian', 'Grill', 'Veget...   \n",
       "3       id_3456     Berlin                                                NaN   \n",
       "4        id_615     Munich  ['German', 'Central European', 'Vegetarian Fri...   \n",
       "\n",
       "   Ranking  Rating Price Range  Number of Reviews  \\\n",
       "0   5570.0     3.5    $$ - $$$              194.0   \n",
       "1   1537.0     4.0         NaN               10.0   \n",
       "2    353.0     4.5        $$$$              688.0   \n",
       "3   3458.0     5.0         NaN                3.0   \n",
       "4    621.0     4.0    $$ - $$$               84.0   \n",
       "\n",
       "                                             Reviews  \\\n",
       "0  [['Good food at your doorstep', 'A good hotel ...   \n",
       "1  [['Unique cuisine', 'Delicious Nepalese food']...   \n",
       "2  [['Catch up with friends', 'Not exceptional'],...   \n",
       "3                                           [[], []]   \n",
       "4  [['Best place to try a Bavarian food', 'Nice b...   \n",
       "\n",
       "                                              URL_TA     ID_TA  \n",
       "0  /Restaurant_Review-g187147-d1912643-Reviews-R_...  d1912643  \n",
       "1  /Restaurant_Review-g189852-d7992032-Reviews-Bu...  d7992032  \n",
       "2  /Restaurant_Review-g186338-d8632781-Reviews-RO...  d8632781  \n",
       "3  /Restaurant_Review-g187323-d1358776-Reviews-Es...  d1358776  \n",
       "4  /Restaurant_Review-g187309-d6864963-Reviews-Au...  d6864963  "
      ]
     },
     "execution_count": 6,
     "metadata": {},
     "output_type": "execute_result"
    }
   ],
   "source": [
    "df_train.head(5)"
   ]
  },
  {
   "cell_type": "code",
   "execution_count": 7,
   "id": "negative-guidance",
   "metadata": {
    "execution": {
     "iopub.execute_input": "2021-05-23T08:38:59.064483Z",
     "iopub.status.busy": "2021-05-23T08:38:59.063556Z",
     "iopub.status.idle": "2021-05-23T08:38:59.068001Z",
     "shell.execute_reply": "2021-05-23T08:38:59.067372Z"
    },
    "papermill": {
     "duration": 0.059803,
     "end_time": "2021-05-23T08:38:59.068139",
     "exception": false,
     "start_time": "2021-05-23T08:38:59.008336",
     "status": "completed"
    },
    "tags": []
   },
   "outputs": [
    {
     "data": {
      "text/html": [
       "<div>\n",
       "<style scoped>\n",
       "    .dataframe tbody tr th:only-of-type {\n",
       "        vertical-align: middle;\n",
       "    }\n",
       "\n",
       "    .dataframe tbody tr th {\n",
       "        vertical-align: top;\n",
       "    }\n",
       "\n",
       "    .dataframe thead th {\n",
       "        text-align: right;\n",
       "    }\n",
       "</style>\n",
       "<table border=\"1\" class=\"dataframe\">\n",
       "  <thead>\n",
       "    <tr style=\"text-align: right;\">\n",
       "      <th></th>\n",
       "      <th>Restaurant_id</th>\n",
       "      <th>Rating</th>\n",
       "    </tr>\n",
       "  </thead>\n",
       "  <tbody>\n",
       "    <tr>\n",
       "      <th>0</th>\n",
       "      <td>id_0</td>\n",
       "      <td>2.0</td>\n",
       "    </tr>\n",
       "    <tr>\n",
       "      <th>1</th>\n",
       "      <td>id_1</td>\n",
       "      <td>2.5</td>\n",
       "    </tr>\n",
       "    <tr>\n",
       "      <th>2</th>\n",
       "      <td>id_2</td>\n",
       "      <td>4.0</td>\n",
       "    </tr>\n",
       "    <tr>\n",
       "      <th>3</th>\n",
       "      <td>id_3</td>\n",
       "      <td>1.0</td>\n",
       "    </tr>\n",
       "    <tr>\n",
       "      <th>4</th>\n",
       "      <td>id_4</td>\n",
       "      <td>4.0</td>\n",
       "    </tr>\n",
       "  </tbody>\n",
       "</table>\n",
       "</div>"
      ],
      "text/plain": [
       "  Restaurant_id  Rating\n",
       "0          id_0     2.0\n",
       "1          id_1     2.5\n",
       "2          id_2     4.0\n",
       "3          id_3     1.0\n",
       "4          id_4     4.0"
      ]
     },
     "execution_count": 7,
     "metadata": {},
     "output_type": "execute_result"
    }
   ],
   "source": [
    "sample_submission.head(5)"
   ]
  },
  {
   "cell_type": "code",
   "execution_count": 8,
   "id": "monthly-thesaurus",
   "metadata": {
    "execution": {
     "iopub.execute_input": "2021-05-23T08:38:59.174763Z",
     "iopub.status.busy": "2021-05-23T08:38:59.173888Z",
     "iopub.status.idle": "2021-05-23T08:38:59.177238Z",
     "shell.execute_reply": "2021-05-23T08:38:59.177755Z"
    },
    "papermill": {
     "duration": 0.063956,
     "end_time": "2021-05-23T08:38:59.177943",
     "exception": false,
     "start_time": "2021-05-23T08:38:59.113987",
     "status": "completed"
    },
    "tags": []
   },
   "outputs": [
    {
     "name": "stdout",
     "output_type": "stream",
     "text": [
      "<class 'pandas.core.frame.DataFrame'>\n",
      "RangeIndex: 10000 entries, 0 to 9999\n",
      "Data columns (total 2 columns):\n",
      " #   Column         Non-Null Count  Dtype  \n",
      "---  ------         --------------  -----  \n",
      " 0   Restaurant_id  10000 non-null  object \n",
      " 1   Rating         10000 non-null  float64\n",
      "dtypes: float64(1), object(1)\n",
      "memory usage: 156.4+ KB\n"
     ]
    }
   ],
   "source": [
    "sample_submission.info()"
   ]
  },
  {
   "cell_type": "code",
   "execution_count": 9,
   "id": "fatty-small",
   "metadata": {
    "execution": {
     "iopub.execute_input": "2021-05-23T08:38:59.272445Z",
     "iopub.status.busy": "2021-05-23T08:38:59.271476Z",
     "iopub.status.idle": "2021-05-23T08:38:59.300141Z",
     "shell.execute_reply": "2021-05-23T08:38:59.300698Z"
    },
    "papermill": {
     "duration": 0.077344,
     "end_time": "2021-05-23T08:38:59.300876",
     "exception": false,
     "start_time": "2021-05-23T08:38:59.223532",
     "status": "completed"
    },
    "tags": []
   },
   "outputs": [],
   "source": [
    "# IMPORTANT! For correct processing of features, we combine the train and test into one dataset\n",
    "df_train['sample'] = 1 # mark where we have train\n",
    "df_test['sample'] = 0 # mark where we have test\n",
    "df_test['Rating'] = 0 # in the test we don't have the Rating value, we must predict it, so for now we just fill it with zeros\n",
    "\n",
    "df = df_test.append(df_train, sort=False).reset_index(drop=True) # unite"
   ]
  },
  {
   "cell_type": "code",
   "execution_count": 10,
   "id": "attended-spelling",
   "metadata": {
    "execution": {
     "iopub.execute_input": "2021-05-23T08:38:59.396187Z",
     "iopub.status.busy": "2021-05-23T08:38:59.395238Z",
     "iopub.status.idle": "2021-05-23T08:38:59.416478Z",
     "shell.execute_reply": "2021-05-23T08:38:59.415782Z"
    },
    "papermill": {
     "duration": 0.070237,
     "end_time": "2021-05-23T08:38:59.416641",
     "exception": false,
     "start_time": "2021-05-23T08:38:59.346404",
     "status": "completed"
    },
    "tags": []
   },
   "outputs": [
    {
     "name": "stdout",
     "output_type": "stream",
     "text": [
      "<class 'pandas.core.frame.DataFrame'>\n",
      "RangeIndex: 10000 entries, 0 to 9999\n",
      "Data columns (total 11 columns):\n",
      " #   Column             Non-Null Count  Dtype  \n",
      "---  ------             --------------  -----  \n",
      " 0   Restaurant_id      10000 non-null  object \n",
      " 1   City               10000 non-null  object \n",
      " 2   Cuisine Style      7693 non-null   object \n",
      " 3   Ranking            10000 non-null  float64\n",
      " 4   Price Range        6525 non-null   object \n",
      " 5   Number of Reviews  9343 non-null   float64\n",
      " 6   Reviews            9998 non-null   object \n",
      " 7   URL_TA             10000 non-null  object \n",
      " 8   ID_TA              10000 non-null  object \n",
      " 9   sample             10000 non-null  int64  \n",
      " 10  Rating             10000 non-null  int64  \n",
      "dtypes: float64(2), int64(2), object(7)\n",
      "memory usage: 859.5+ KB\n"
     ]
    }
   ],
   "source": [
    "df_test.info()"
   ]
  },
  {
   "cell_type": "code",
   "execution_count": 11,
   "id": "latin-combat",
   "metadata": {
    "execution": {
     "iopub.execute_input": "2021-05-23T08:38:59.529122Z",
     "iopub.status.busy": "2021-05-23T08:38:59.528421Z",
     "iopub.status.idle": "2021-05-23T08:38:59.559995Z",
     "shell.execute_reply": "2021-05-23T08:38:59.560451Z"
    },
    "papermill": {
     "duration": 0.097247,
     "end_time": "2021-05-23T08:38:59.560651",
     "exception": false,
     "start_time": "2021-05-23T08:38:59.463404",
     "status": "completed"
    },
    "tags": []
   },
   "outputs": [
    {
     "name": "stdout",
     "output_type": "stream",
     "text": [
      "<class 'pandas.core.frame.DataFrame'>\n",
      "RangeIndex: 50000 entries, 0 to 49999\n",
      "Data columns (total 11 columns):\n",
      " #   Column             Non-Null Count  Dtype  \n",
      "---  ------             --------------  -----  \n",
      " 0   Restaurant_id      50000 non-null  object \n",
      " 1   City               50000 non-null  object \n",
      " 2   Cuisine Style      38410 non-null  object \n",
      " 3   Ranking            50000 non-null  float64\n",
      " 4   Price Range        32639 non-null  object \n",
      " 5   Number of Reviews  46800 non-null  float64\n",
      " 6   Reviews            49998 non-null  object \n",
      " 7   URL_TA             50000 non-null  object \n",
      " 8   ID_TA              50000 non-null  object \n",
      " 9   sample             50000 non-null  int64  \n",
      " 10  Rating             50000 non-null  float64\n",
      "dtypes: float64(3), int64(1), object(7)\n",
      "memory usage: 4.2+ MB\n"
     ]
    }
   ],
   "source": [
    "df.info()"
   ]
  },
  {
   "cell_type": "markdown",
   "id": "drawn-steering",
   "metadata": {
    "papermill": {
     "duration": 0.047006,
     "end_time": "2021-05-23T08:38:59.655703",
     "exception": false,
     "start_time": "2021-05-23T08:38:59.608697",
     "status": "completed"
    },
    "tags": []
   },
   "source": [
    "Первоначальная версия датасета состоит из десяти столбцов, содержащих следующую информацию:\n",
    "\n",
    "* Restaurant_id — идентификационный номер ресторана / сети ресторанов;\n",
    "* City — город, в котором находится ресторан;\n",
    "* Cuisine Style — кухня или кухни, к которым можно отнести блюда, предлагаемые в ресторане;\n",
    "* Ranking — место, которое занимает данный ресторан среди всех ресторанов своего города;\n",
    "* Rating — рейтинг ресторана по данным TripAdvisor (именно это значение должна будет предсказывать модель);\n",
    "* Price Range — диапазон цен в ресторане;\n",
    "* Number of Reviews — количество отзывов о ресторане;\n",
    "* Reviews — данные о двух отзывах, которые отображаются на сайте ресторана;\n",
    "* URL_TA — URL страницы ресторана на TripAdvisor;\n",
    "* ID_TA — идентификатор ресторана в базе данных TripAdvisor"
   ]
  },
  {
   "cell_type": "code",
   "execution_count": 12,
   "id": "baking-island",
   "metadata": {
    "execution": {
     "iopub.execute_input": "2021-05-23T08:38:59.757064Z",
     "iopub.status.busy": "2021-05-23T08:38:59.756327Z",
     "iopub.status.idle": "2021-05-23T08:38:59.793728Z",
     "shell.execute_reply": "2021-05-23T08:38:59.793014Z"
    },
    "papermill": {
     "duration": 0.091082,
     "end_time": "2021-05-23T08:38:59.793888",
     "exception": false,
     "start_time": "2021-05-23T08:38:59.702806",
     "status": "completed"
    },
    "tags": []
   },
   "outputs": [
    {
     "data": {
      "text/html": [
       "<div>\n",
       "<style scoped>\n",
       "    .dataframe tbody tr th:only-of-type {\n",
       "        vertical-align: middle;\n",
       "    }\n",
       "\n",
       "    .dataframe tbody tr th {\n",
       "        vertical-align: top;\n",
       "    }\n",
       "\n",
       "    .dataframe thead th {\n",
       "        text-align: right;\n",
       "    }\n",
       "</style>\n",
       "<table border=\"1\" class=\"dataframe\">\n",
       "  <thead>\n",
       "    <tr style=\"text-align: right;\">\n",
       "      <th></th>\n",
       "      <th>Restaurant_id</th>\n",
       "      <th>City</th>\n",
       "      <th>Cuisine Style</th>\n",
       "      <th>Ranking</th>\n",
       "      <th>Price Range</th>\n",
       "      <th>Number of Reviews</th>\n",
       "      <th>Reviews</th>\n",
       "      <th>URL_TA</th>\n",
       "      <th>ID_TA</th>\n",
       "      <th>sample</th>\n",
       "      <th>Rating</th>\n",
       "    </tr>\n",
       "  </thead>\n",
       "  <tbody>\n",
       "    <tr>\n",
       "      <th>45921</th>\n",
       "      <td>id_5017</td>\n",
       "      <td>Madrid</td>\n",
       "      <td>['American']</td>\n",
       "      <td>5020.0</td>\n",
       "      <td>$$ - $$$</td>\n",
       "      <td>89.0</td>\n",
       "      <td>[['Average price but a filling meal.', 'Yummy ...</td>\n",
       "      <td>/Restaurant_Review-g187514-d942426-Reviews-Fos...</td>\n",
       "      <td>d942426</td>\n",
       "      <td>1</td>\n",
       "      <td>3.5</td>\n",
       "    </tr>\n",
       "    <tr>\n",
       "      <th>7497</th>\n",
       "      <td>id_7497</td>\n",
       "      <td>London</td>\n",
       "      <td>['Cafe', 'European', 'Vegetarian Friendly']</td>\n",
       "      <td>12892.0</td>\n",
       "      <td>$$ - $$$</td>\n",
       "      <td>20.0</td>\n",
       "      <td>[['Lovely place for lunch or tea', 'Quiet and ...</td>\n",
       "      <td>/Restaurant_Review-g186338-d9788607-Reviews-Pa...</td>\n",
       "      <td>d9788607</td>\n",
       "      <td>0</td>\n",
       "      <td>0.0</td>\n",
       "    </tr>\n",
       "    <tr>\n",
       "      <th>30457</th>\n",
       "      <td>id_2519</td>\n",
       "      <td>Lisbon</td>\n",
       "      <td>['European', 'Portuguese']</td>\n",
       "      <td>2522.0</td>\n",
       "      <td>$$ - $$$</td>\n",
       "      <td>12.0</td>\n",
       "      <td>[['The best bitoque in Lisbon!!'], ['09/26/201...</td>\n",
       "      <td>/Restaurant_Review-g189158-d3842372-Reviews-Cr...</td>\n",
       "      <td>d3842372</td>\n",
       "      <td>1</td>\n",
       "      <td>4.0</td>\n",
       "    </tr>\n",
       "    <tr>\n",
       "      <th>8452</th>\n",
       "      <td>id_8452</td>\n",
       "      <td>Berlin</td>\n",
       "      <td>NaN</td>\n",
       "      <td>4592.0</td>\n",
       "      <td>NaN</td>\n",
       "      <td>7.0</td>\n",
       "      <td>[['Croatian Restaurant in Charlottenburg', 'Li...</td>\n",
       "      <td>/Restaurant_Review-g187323-d1346068-Reviews-Es...</td>\n",
       "      <td>d1346068</td>\n",
       "      <td>0</td>\n",
       "      <td>0.0</td>\n",
       "    </tr>\n",
       "    <tr>\n",
       "      <th>15109</th>\n",
       "      <td>id_4829</td>\n",
       "      <td>Barcelona</td>\n",
       "      <td>['Italian', 'Pizza', 'Mediterranean', 'Europea...</td>\n",
       "      <td>4830.0</td>\n",
       "      <td>$$ - $$$</td>\n",
       "      <td>57.0</td>\n",
       "      <td>[['Appauling service', 'Bad service'], ['05/13...</td>\n",
       "      <td>/Restaurant_Review-g187497-d5796134-Reviews-Il...</td>\n",
       "      <td>d5796134</td>\n",
       "      <td>1</td>\n",
       "      <td>3.5</td>\n",
       "    </tr>\n",
       "  </tbody>\n",
       "</table>\n",
       "</div>"
      ],
      "text/plain": [
       "      Restaurant_id       City  \\\n",
       "45921       id_5017     Madrid   \n",
       "7497        id_7497     London   \n",
       "30457       id_2519     Lisbon   \n",
       "8452        id_8452     Berlin   \n",
       "15109       id_4829  Barcelona   \n",
       "\n",
       "                                           Cuisine Style  Ranking Price Range  \\\n",
       "45921                                       ['American']   5020.0    $$ - $$$   \n",
       "7497         ['Cafe', 'European', 'Vegetarian Friendly']  12892.0    $$ - $$$   \n",
       "30457                         ['European', 'Portuguese']   2522.0    $$ - $$$   \n",
       "8452                                                 NaN   4592.0         NaN   \n",
       "15109  ['Italian', 'Pizza', 'Mediterranean', 'Europea...   4830.0    $$ - $$$   \n",
       "\n",
       "       Number of Reviews                                            Reviews  \\\n",
       "45921               89.0  [['Average price but a filling meal.', 'Yummy ...   \n",
       "7497                20.0  [['Lovely place for lunch or tea', 'Quiet and ...   \n",
       "30457               12.0  [['The best bitoque in Lisbon!!'], ['09/26/201...   \n",
       "8452                 7.0  [['Croatian Restaurant in Charlottenburg', 'Li...   \n",
       "15109               57.0  [['Appauling service', 'Bad service'], ['05/13...   \n",
       "\n",
       "                                                  URL_TA     ID_TA  sample  \\\n",
       "45921  /Restaurant_Review-g187514-d942426-Reviews-Fos...   d942426       1   \n",
       "7497   /Restaurant_Review-g186338-d9788607-Reviews-Pa...  d9788607       0   \n",
       "30457  /Restaurant_Review-g189158-d3842372-Reviews-Cr...  d3842372       1   \n",
       "8452   /Restaurant_Review-g187323-d1346068-Reviews-Es...  d1346068       0   \n",
       "15109  /Restaurant_Review-g187497-d5796134-Reviews-Il...  d5796134       1   \n",
       "\n",
       "       Rating  \n",
       "45921     3.5  \n",
       "7497      0.0  \n",
       "30457     4.0  \n",
       "8452      0.0  \n",
       "15109     3.5  "
      ]
     },
     "execution_count": 12,
     "metadata": {},
     "output_type": "execute_result"
    }
   ],
   "source": [
    "df.sample(5)"
   ]
  },
  {
   "cell_type": "markdown",
   "id": "surface-correction",
   "metadata": {
    "papermill": {
     "duration": 0.048571,
     "end_time": "2021-05-23T08:38:59.890851",
     "exception": false,
     "start_time": "2021-05-23T08:38:59.842280",
     "status": "completed"
    },
    "tags": []
   },
   "source": [
    "As you can see, there are many gaps in the data. It is necessary to clean up and preprocess variables"
   ]
  },
  {
   "cell_type": "markdown",
   "id": "auburn-russell",
   "metadata": {
    "papermill": {
     "duration": 0.047055,
     "end_time": "2021-05-23T08:38:59.985778",
     "exception": false,
     "start_time": "2021-05-23T08:38:59.938723",
     "status": "completed"
    },
    "tags": []
   },
   "source": [
    "**PREPROCESSING**"
   ]
  },
  {
   "cell_type": "markdown",
   "id": "confident-subdivision",
   "metadata": {
    "papermill": {
     "duration": 0.046986,
     "end_time": "2021-05-23T08:39:00.080238",
     "exception": false,
     "start_time": "2021-05-23T08:39:00.033252",
     "status": "completed"
    },
    "tags": []
   },
   "source": [
    "*Price Range*"
   ]
  },
  {
   "cell_type": "code",
   "execution_count": 13,
   "id": "directed-diagnosis",
   "metadata": {
    "execution": {
     "iopub.execute_input": "2021-05-23T08:39:00.179626Z",
     "iopub.status.busy": "2021-05-23T08:39:00.178943Z",
     "iopub.status.idle": "2021-05-23T08:39:00.195126Z",
     "shell.execute_reply": "2021-05-23T08:39:00.195591Z"
    },
    "papermill": {
     "duration": 0.067018,
     "end_time": "2021-05-23T08:39:00.195771",
     "exception": false,
     "start_time": "2021-05-23T08:39:00.128753",
     "status": "completed"
    },
    "tags": []
   },
   "outputs": [
    {
     "data": {
      "text/plain": [
       "$$ - $$$    23041\n",
       "$            7816\n",
       "$$$$         1782\n",
       "Name: Price Range, dtype: int64"
      ]
     },
     "execution_count": 13,
     "metadata": {},
     "output_type": "execute_result"
    }
   ],
   "source": [
    "df['Price Range'].value_counts()"
   ]
  },
  {
   "cell_type": "markdown",
   "id": "casual-location",
   "metadata": {
    "papermill": {
     "duration": 0.047493,
     "end_time": "2021-05-23T08:39:00.290770",
     "exception": false,
     "start_time": "2021-05-23T08:39:00.243277",
     "status": "completed"
    },
    "tags": []
   },
   "source": [
    "As we can see the prices are divided into three categories. It is advisable to replace the values ​​with numeric (1, 2,3) ascending price category"
   ]
  },
  {
   "cell_type": "code",
   "execution_count": 14,
   "id": "anticipated-hello",
   "metadata": {
    "execution": {
     "iopub.execute_input": "2021-05-23T08:39:00.389961Z",
     "iopub.status.busy": "2021-05-23T08:39:00.388976Z",
     "iopub.status.idle": "2021-05-23T08:39:00.412548Z",
     "shell.execute_reply": "2021-05-23T08:39:00.412980Z"
    },
    "papermill": {
     "duration": 0.074493,
     "end_time": "2021-05-23T08:39:00.413151",
     "exception": false,
     "start_time": "2021-05-23T08:39:00.338658",
     "status": "completed"
    },
    "tags": []
   },
   "outputs": [
    {
     "data": {
      "text/plain": [
       "0        2.0\n",
       "1        2.0\n",
       "2        2.0\n",
       "3        3.0\n",
       "4        3.0\n",
       "        ... \n",
       "49995    2.0\n",
       "49996    2.0\n",
       "49997    NaN\n",
       "49998    2.0\n",
       "49999    2.0\n",
       "Name: Price Range, Length: 50000, dtype: float64"
      ]
     },
     "execution_count": 14,
     "metadata": {},
     "output_type": "execute_result"
    }
   ],
   "source": [
    "pr = {'$' : 1, '$$ - $$$' : 2, '$$$$' : 3}\n",
    "df['Price Range'] = df['Price Range'].map(pr)\n",
    "df['Price Range']"
   ]
  },
  {
   "cell_type": "markdown",
   "id": "presidential-burning",
   "metadata": {
    "papermill": {
     "duration": 0.047768,
     "end_time": "2021-05-23T08:39:00.509325",
     "exception": false,
     "start_time": "2021-05-23T08:39:00.461557",
     "status": "completed"
    },
    "tags": []
   },
   "source": [
    "We can also see the presence of gaps in the list of values. Replace NaN with the most common value (2)"
   ]
  },
  {
   "cell_type": "code",
   "execution_count": 15,
   "id": "seeing-conclusion",
   "metadata": {
    "execution": {
     "iopub.execute_input": "2021-05-23T08:39:00.611268Z",
     "iopub.status.busy": "2021-05-23T08:39:00.610341Z",
     "iopub.status.idle": "2021-05-23T08:39:00.619138Z",
     "shell.execute_reply": "2021-05-23T08:39:00.619594Z"
    },
    "papermill": {
     "duration": 0.061385,
     "end_time": "2021-05-23T08:39:00.619769",
     "exception": false,
     "start_time": "2021-05-23T08:39:00.558384",
     "status": "completed"
    },
    "tags": []
   },
   "outputs": [
    {
     "data": {
      "text/plain": [
       "0        2.0\n",
       "1        2.0\n",
       "2        2.0\n",
       "3        3.0\n",
       "4        3.0\n",
       "        ... \n",
       "49995    2.0\n",
       "49996    2.0\n",
       "49997    2.0\n",
       "49998    2.0\n",
       "49999    2.0\n",
       "Name: Price Range, Length: 50000, dtype: float64"
      ]
     },
     "execution_count": 15,
     "metadata": {},
     "output_type": "execute_result"
    }
   ],
   "source": [
    "df['Price Range'] = df['Price Range'].fillna(2)\n",
    "df['Price Range']"
   ]
  },
  {
   "cell_type": "markdown",
   "id": "cloudy-virgin",
   "metadata": {
    "papermill": {
     "duration": 0.048152,
     "end_time": "2021-05-23T08:39:00.718094",
     "exception": false,
     "start_time": "2021-05-23T08:39:00.669942",
     "status": "completed"
    },
    "tags": []
   },
   "source": [
    "Now, after processing the Price Range column, we can analyze the dependence of the restaurant's rating on the price range"
   ]
  },
  {
   "cell_type": "code",
   "execution_count": 16,
   "id": "finished-biotechnology",
   "metadata": {
    "execution": {
     "iopub.execute_input": "2021-05-23T08:39:00.820149Z",
     "iopub.status.busy": "2021-05-23T08:39:00.819141Z",
     "iopub.status.idle": "2021-05-23T08:39:01.029264Z",
     "shell.execute_reply": "2021-05-23T08:39:01.029814Z"
    },
    "papermill": {
     "duration": 0.262818,
     "end_time": "2021-05-23T08:39:01.029997",
     "exception": false,
     "start_time": "2021-05-23T08:39:00.767179",
     "status": "completed"
    },
    "tags": []
   },
   "outputs": [
    {
     "data": {
      "image/png": "[encoded data removed]",
      "text/plain": [
       "<Figure size 432x288 with 1 Axes>"
      ]
     },
     "metadata": {
      "needs_background": "light"
     },
     "output_type": "display_data"
    }
   ],
   "source": [
    "sns.boxplot(x='Price Range', y='Rating', data=df);"
   ]
  },
  {
   "cell_type": "markdown",
   "id": "bigger-crowd",
   "metadata": {
    "papermill": {
     "duration": 0.049991,
     "end_time": "2021-05-23T08:39:01.130614",
     "exception": false,
     "start_time": "2021-05-23T08:39:01.080623",
     "status": "completed"
    },
    "tags": []
   },
   "source": [
    "As can be seen from boxplot, low and high-priced restaurants have better ratings"
   ]
  },
  {
   "cell_type": "markdown",
   "id": "treated-length",
   "metadata": {
    "papermill": {
     "duration": 0.049666,
     "end_time": "2021-05-23T08:39:01.230451",
     "exception": false,
     "start_time": "2021-05-23T08:39:01.180785",
     "status": "completed"
    },
    "tags": []
   },
   "source": [
    "*Cuisine Style*"
   ]
  },
  {
   "cell_type": "code",
   "execution_count": 17,
   "id": "monthly-mustang",
   "metadata": {
    "execution": {
     "iopub.execute_input": "2021-05-23T08:39:01.335029Z",
     "iopub.status.busy": "2021-05-23T08:39:01.333933Z",
     "iopub.status.idle": "2021-05-23T08:39:01.342747Z",
     "shell.execute_reply": "2021-05-23T08:39:01.342056Z"
    },
    "papermill": {
     "duration": 0.061583,
     "end_time": "2021-05-23T08:39:01.342915",
     "exception": false,
     "start_time": "2021-05-23T08:39:01.281332",
     "status": "completed"
    },
    "tags": []
   },
   "outputs": [
    {
     "data": {
      "text/plain": [
       "0                                           ['Bar', 'Pub']\n",
       "1        ['European', 'Scandinavian', 'Gluten Free Opti...\n",
       "2                                  ['Vegetarian Friendly']\n",
       "3        ['Italian', 'Mediterranean', 'European', 'Vege...\n",
       "4        ['Italian', 'Mediterranean', 'European', 'Seaf...\n",
       "                               ...                        \n",
       "49995    ['Italian', 'Vegetarian Friendly', 'Vegan Opti...\n",
       "49996    ['French', 'American', 'Bar', 'European', 'Veg...\n",
       "49997                                ['Japanese', 'Sushi']\n",
       "49998    ['Polish', 'European', 'Eastern European', 'Ce...\n",
       "49999                                          ['Spanish']\n",
       "Name: Cuisine Style, Length: 50000, dtype: object"
      ]
     },
     "execution_count": 17,
     "metadata": {},
     "output_type": "execute_result"
    }
   ],
   "source": [
    "df['Cuisine Style']"
   ]
  },
  {
   "cell_type": "markdown",
   "id": "wooden-winner",
   "metadata": {
    "papermill": {
     "duration": 0.050072,
     "end_time": "2021-05-23T08:39:01.443155",
     "exception": false,
     "start_time": "2021-05-23T08:39:01.393083",
     "status": "completed"
    },
    "tags": []
   },
   "source": [
    " Replace NaN in 'Cuisine Style' with the most popular cuisine"
   ]
  },
  {
   "cell_type": "code",
   "execution_count": 18,
   "id": "premium-electricity",
   "metadata": {
    "execution": {
     "iopub.execute_input": "2021-05-23T08:39:01.563094Z",
     "iopub.status.busy": "2021-05-23T08:39:01.557975Z",
     "iopub.status.idle": "2021-05-23T08:39:01.756566Z",
     "shell.execute_reply": "2021-05-23T08:39:01.755988Z"
    },
    "papermill": {
     "duration": 0.26328,
     "end_time": "2021-05-23T08:39:01.756710",
     "exception": false,
     "start_time": "2021-05-23T08:39:01.493430",
     "status": "completed"
    },
    "tags": []
   },
   "outputs": [
    {
     "data": {
      "text/plain": [
       "0                                                  Bar,Pub\n",
       "1        European,Scandinavian,Gluten Free Options,Vege...\n",
       "2                                      Vegetarian Friendly\n",
       "3        Italian,Mediterranean,European,Vegetarian Frie...\n",
       "4        Italian,Mediterranean,European,Seafood,Vegetar...\n",
       "                               ...                        \n",
       "49995    Italian,Vegetarian Friendly,Vegan Options,Glut...\n",
       "49996     French,American,Bar,European,Vegetarian Friendly\n",
       "49997                                       Japanese,Sushi\n",
       "49998    Polish,European,Eastern European,Central Europ...\n",
       "49999                                              Spanish\n",
       "Name: Cuisine Style, Length: 50000, dtype: object"
      ]
     },
     "execution_count": 18,
     "metadata": {},
     "output_type": "execute_result"
    }
   ],
   "source": [
    "def replace_cuisine(x):\n",
    "    if pd.isna(x):\n",
    "        return x # NaN remains as it is, we do not change to nan\n",
    "    else:\n",
    "        replace_list = ['[',']',\"'\"]\n",
    "        for value in replace_list:\n",
    "            x = x.replace(value,'')\n",
    "        return x.replace(', ',',')\n",
    "# clear the values in the column\n",
    "df['Cuisine Style'] = df['Cuisine Style'].apply(replace_cuisine)\n",
    "# count the frequency of each kitchen\n",
    "max_count_cusine = Counter(df['Cuisine Style'].str.cat(sep=',').split(','))\n",
    "# sort the resulting dictionary in descending order and take the first three kitchens\n",
    "three_cuisine_list = list(max_count_cusine.items())\n",
    "three_cuisine_list.sort(key=lambda i: i[1],reverse=True)\n",
    "three_cuisine_list = list(dict(three_cuisine_list[:3]).keys())\n",
    "three_cuisine_list =  ','.join(three_cuisine_list)\n",
    "# change NaN to the first three kitchens from the list\n",
    "df['Cuisine Style'] = df['Cuisine Style'].apply(lambda x: three_cuisine_list if pd.isna(x) else x)\n",
    "df['Cuisine Style']"
   ]
  },
  {
   "cell_type": "code",
   "execution_count": 19,
   "id": "advisory-privacy",
   "metadata": {
    "execution": {
     "iopub.execute_input": "2021-05-23T08:39:01.864360Z",
     "iopub.status.busy": "2021-05-23T08:39:01.863708Z",
     "iopub.status.idle": "2021-05-23T08:39:03.879996Z",
     "shell.execute_reply": "2021-05-23T08:39:03.879378Z"
    },
    "papermill": {
     "duration": 2.071891,
     "end_time": "2021-05-23T08:39:03.880147",
     "exception": false,
     "start_time": "2021-05-23T08:39:01.808256",
     "status": "completed"
    },
    "tags": []
   },
   "outputs": [],
   "source": [
    "# Create dummy variables from the column 'Cuisine Style'\n",
    "df = pd.get_dummies(df, columns=['Cuisine Style'])"
   ]
  },
  {
   "cell_type": "markdown",
   "id": "vital-somewhere",
   "metadata": {
    "papermill": {
     "duration": 0.051823,
     "end_time": "2021-05-23T08:39:03.983766",
     "exception": false,
     "start_time": "2021-05-23T08:39:03.931943",
     "status": "completed"
    },
    "tags": []
   },
   "source": [
    "***Reviews***"
   ]
  },
  {
   "cell_type": "markdown",
   "id": "vocational-ensemble",
   "metadata": {
    "papermill": {
     "duration": 0.050352,
     "end_time": "2021-05-23T08:39:04.085300",
     "exception": false,
     "start_time": "2021-05-23T08:39:04.034948",
     "status": "completed"
    },
    "tags": []
   },
   "source": [
    "Select the gaps as a separate feature"
   ]
  },
  {
   "cell_type": "code",
   "execution_count": 20,
   "id": "changed-working",
   "metadata": {
    "execution": {
     "iopub.execute_input": "2021-05-23T08:39:04.193657Z",
     "iopub.status.busy": "2021-05-23T08:39:04.192979Z",
     "iopub.status.idle": "2021-05-23T08:39:04.212538Z",
     "shell.execute_reply": "2021-05-23T08:39:04.211830Z"
    },
    "papermill": {
     "duration": 0.076922,
     "end_time": "2021-05-23T08:39:04.212706",
     "exception": false,
     "start_time": "2021-05-23T08:39:04.135784",
     "status": "completed"
    },
    "tags": []
   },
   "outputs": [],
   "source": [
    "df['review_is_NAN'] = (df.Reviews == '[[], []]').astype('uint8')\n",
    "df['review_is_NAN'] = pd.isna(df.Reviews).astype('uint8')"
   ]
  },
  {
   "cell_type": "markdown",
   "id": "dramatic-honolulu",
   "metadata": {
    "papermill": {
     "duration": 0.050665,
     "end_time": "2021-05-23T08:39:04.314689",
     "exception": false,
     "start_time": "2021-05-23T08:39:04.264024",
     "status": "completed"
    },
    "tags": []
   },
   "source": [
    "Separate dates"
   ]
  },
  {
   "cell_type": "code",
   "execution_count": 21,
   "id": "wound-cedar",
   "metadata": {
    "execution": {
     "iopub.execute_input": "2021-05-23T08:39:04.420323Z",
     "iopub.status.busy": "2021-05-23T08:39:04.419661Z",
     "iopub.status.idle": "2021-05-23T08:39:04.657179Z",
     "shell.execute_reply": "2021-05-23T08:39:04.657704Z"
    },
    "papermill": {
     "duration": 0.292223,
     "end_time": "2021-05-23T08:39:04.657890",
     "exception": false,
     "start_time": "2021-05-23T08:39:04.365667",
     "status": "completed"
    },
    "tags": []
   },
   "outputs": [
    {
     "data": {
      "text/plain": [
       "0                              []\n",
       "1        [12/05/2017, 10/29/2017]\n",
       "2        [12/28/2017, 12/06/2017]\n",
       "3        [12/06/2017, 11/22/2017]\n",
       "4        [02/08/2018, 01/24/2018]\n",
       "                   ...           \n",
       "49995    [12/16/2017, 11/12/2017]\n",
       "49996    [12/21/2017, 12/12/2017]\n",
       "49997    [11/03/2016, 04/12/2008]\n",
       "49998    [07/11/2017, 06/18/2017]\n",
       "49999    [01/31/2016, 07/04/2012]\n",
       "Name: date_review, Length: 50000, dtype: object"
      ]
     },
     "execution_count": 21,
     "metadata": {},
     "output_type": "execute_result"
    }
   ],
   "source": [
    "df['date_review'] = df['Reviews'].apply(\n",
    "    lambda x: [0] if pd.isna(x) else x[2:-2].split('], [')[1][1:-1].split(\"', '\"))\n",
    "df['date_review']"
   ]
  },
  {
   "cell_type": "markdown",
   "id": "scenic-census",
   "metadata": {
    "papermill": {
     "duration": 0.050865,
     "end_time": "2021-05-23T08:39:04.761430",
     "exception": false,
     "start_time": "2021-05-23T08:39:04.710565",
     "status": "completed"
    },
    "tags": []
   },
   "source": [
    "***Number of reviews***"
   ]
  },
  {
   "cell_type": "code",
   "execution_count": 22,
   "id": "measured-banana",
   "metadata": {
    "execution": {
     "iopub.execute_input": "2021-05-23T08:39:04.868499Z",
     "iopub.status.busy": "2021-05-23T08:39:04.867879Z",
     "iopub.status.idle": "2021-05-23T08:39:04.876856Z",
     "shell.execute_reply": "2021-05-23T08:39:04.877371Z"
    },
    "papermill": {
     "duration": 0.063719,
     "end_time": "2021-05-23T08:39:04.877584",
     "exception": false,
     "start_time": "2021-05-23T08:39:04.813865",
     "status": "completed"
    },
    "tags": []
   },
   "outputs": [
    {
     "data": {
      "text/plain": [
       "0          4.0\n",
       "1         97.0\n",
       "2         28.0\n",
       "3        202.0\n",
       "4        162.0\n",
       "         ...  \n",
       "49995     79.0\n",
       "49996    542.0\n",
       "49997      4.0\n",
       "49998     70.0\n",
       "49999    260.0\n",
       "Name: Number of Reviews, Length: 50000, dtype: float64"
      ]
     },
     "execution_count": 22,
     "metadata": {},
     "output_type": "execute_result"
    }
   ],
   "source": [
    "df['Number of Reviews']=df['Number of Reviews'].fillna(round(df['Number of Reviews'].mean()))\n",
    "df['Number of Reviews']"
   ]
  },
  {
   "cell_type": "markdown",
   "id": "broke-transportation",
   "metadata": {
    "papermill": {
     "duration": 0.051926,
     "end_time": "2021-05-23T08:39:04.982112",
     "exception": false,
     "start_time": "2021-05-23T08:39:04.930186",
     "status": "completed"
    },
    "tags": []
   },
   "source": [
    "Determine the number of days between reviews"
   ]
  },
  {
   "cell_type": "code",
   "execution_count": 23,
   "id": "tribal-reducing",
   "metadata": {
    "execution": {
     "iopub.execute_input": "2021-05-23T08:39:05.090181Z",
     "iopub.status.busy": "2021-05-23T08:39:05.089521Z",
     "iopub.status.idle": "2021-05-23T08:39:46.358176Z",
     "shell.execute_reply": "2021-05-23T08:39:46.358702Z"
    },
    "papermill": {
     "duration": 41.324557,
     "end_time": "2021-05-23T08:39:46.358889",
     "exception": false,
     "start_time": "2021-05-23T08:39:05.034332",
     "status": "completed"
    },
    "tags": []
   },
   "outputs": [
    {
     "data": {
      "text/plain": [
       "0       NaN\n",
       "1      37.0\n",
       "2      22.0\n",
       "3      14.0\n",
       "4      15.0\n",
       "5       5.0\n",
       "6       NaN\n",
       "7       NaN\n",
       "8      88.0\n",
       "9      34.0\n",
       "10     78.0\n",
       "11     83.0\n",
       "12      0.0\n",
       "13    374.0\n",
       "14     48.0\n",
       "Name: number_days_reviews, dtype: float64"
      ]
     },
     "execution_count": 23,
     "metadata": {},
     "output_type": "execute_result"
    }
   ],
   "source": [
    "df['number_days_reviews'] = df.date_review.apply(\n",
    "    lambda x: None if x == [] else pd.to_datetime(x).max() - pd.to_datetime(x).min()).dt.days\n",
    "df['number_days_reviews'].head(15)"
   ]
  },
  {
   "cell_type": "markdown",
   "id": "economic-sheep",
   "metadata": {
    "papermill": {
     "duration": 0.05209,
     "end_time": "2021-05-23T08:39:46.463022",
     "exception": false,
     "start_time": "2021-05-23T08:39:46.410932",
     "status": "completed"
    },
    "tags": []
   },
   "source": [
    "Fill cells with spaces with the average value of the number of days between dates"
   ]
  },
  {
   "cell_type": "code",
   "execution_count": 24,
   "id": "analyzed-audio",
   "metadata": {
    "execution": {
     "iopub.execute_input": "2021-05-23T08:39:46.573620Z",
     "iopub.status.busy": "2021-05-23T08:39:46.572591Z",
     "iopub.status.idle": "2021-05-23T08:39:46.579953Z",
     "shell.execute_reply": "2021-05-23T08:39:46.580436Z"
    },
    "papermill": {
     "duration": 0.065387,
     "end_time": "2021-05-23T08:39:46.580616",
     "exception": false,
     "start_time": "2021-05-23T08:39:46.515229",
     "status": "completed"
    },
    "tags": []
   },
   "outputs": [
    {
     "data": {
      "text/plain": [
       "0         123.0\n",
       "1          37.0\n",
       "2          22.0\n",
       "3          14.0\n",
       "4          15.0\n",
       "          ...  \n",
       "49995      34.0\n",
       "49996       9.0\n",
       "49997    3127.0\n",
       "49998      23.0\n",
       "49999    1306.0\n",
       "Name: number_days_reviews, Length: 50000, dtype: float64"
      ]
     },
     "execution_count": 24,
     "metadata": {},
     "output_type": "execute_result"
    }
   ],
   "source": [
    "mean_day = df['number_days_reviews'].mean()\n",
    "df['number_days_reviews'] =df['number_days_reviews'].fillna(round(mean_day))\n",
    "df['number_days_reviews']"
   ]
  },
  {
   "cell_type": "markdown",
   "id": "textile-algebra",
   "metadata": {
    "papermill": {
     "duration": 0.052216,
     "end_time": "2021-05-23T08:39:46.685423",
     "exception": false,
     "start_time": "2021-05-23T08:39:46.633207",
     "status": "completed"
    },
    "tags": []
   },
   "source": [
    "***Create a new attribute: the number of reviews by city***"
   ]
  },
  {
   "cell_type": "code",
   "execution_count": 25,
   "id": "pharmaceutical-surgery",
   "metadata": {
    "execution": {
     "iopub.execute_input": "2021-05-23T08:39:46.795013Z",
     "iopub.status.busy": "2021-05-23T08:39:46.793956Z",
     "iopub.status.idle": "2021-05-23T08:39:47.183468Z",
     "shell.execute_reply": "2021-05-23T08:39:47.182921Z"
    },
    "papermill": {
     "duration": 0.44513,
     "end_time": "2021-05-23T08:39:47.183624",
     "exception": false,
     "start_time": "2021-05-23T08:39:46.738494",
     "status": "completed"
    },
    "tags": []
   },
   "outputs": [
    {
     "data": {
      "text/plain": [
       "<AxesSubplot:xlabel='City'>"
      ]
     },
     "execution_count": 25,
     "metadata": {},
     "output_type": "execute_result"
    },
    {
     "data": {
      "image/png": "[encoded data removed]",
      "text/plain": [
       "<Figure size 1440x864 with 1 Axes>"
      ]
     },
     "metadata": {
      "needs_background": "light"
     },
     "output_type": "display_data"
    }
   ],
   "source": [
    "plt.figure(figsize=(20,12))\n",
    "df.groupby('City')['Number of Reviews'].sum().sort_values(ascending=False).plot(kind='bar')"
   ]
  },
  {
   "cell_type": "markdown",
   "id": "portable-doctrine",
   "metadata": {
    "papermill": {
     "duration": 0.053492,
     "end_time": "2021-05-23T08:39:47.292375",
     "exception": false,
     "start_time": "2021-05-23T08:39:47.238883",
     "status": "completed"
    },
    "tags": []
   },
   "source": [
    "As we can see from the diagram, the larger the city, the more reviews"
   ]
  },
  {
   "cell_type": "code",
   "execution_count": 26,
   "id": "elementary-gender",
   "metadata": {
    "execution": {
     "iopub.execute_input": "2021-05-23T08:39:47.407633Z",
     "iopub.status.busy": "2021-05-23T08:39:47.405526Z",
     "iopub.status.idle": "2021-05-23T08:39:47.420912Z",
     "shell.execute_reply": "2021-05-23T08:39:47.420378Z"
    },
    "papermill": {
     "duration": 0.074892,
     "end_time": "2021-05-23T08:39:47.421054",
     "exception": false,
     "start_time": "2021-05-23T08:39:47.346162",
     "status": "completed"
    },
    "tags": []
   },
   "outputs": [],
   "source": [
    "count_reviews_city = dict(df.groupby('City')['Number of Reviews'].sum())\n",
    "df['count_reviews_city'] = df.City.map(count_reviews_city)"
   ]
  },
  {
   "cell_type": "markdown",
   "id": "cardiovascular-cycle",
   "metadata": {
    "papermill": {
     "duration": 0.053732,
     "end_time": "2021-05-23T08:39:47.528891",
     "exception": false,
     "start_time": "2021-05-23T08:39:47.475159",
     "status": "completed"
    },
    "tags": []
   },
   "source": [
    "***Сreate a sign: the number of population***"
   ]
  },
  {
   "cell_type": "markdown",
   "id": "insured-spread",
   "metadata": {
    "papermill": {
     "duration": 0.053856,
     "end_time": "2021-05-23T08:39:47.636647",
     "exception": false,
     "start_time": "2021-05-23T08:39:47.582791",
     "status": "completed"
    },
    "tags": []
   },
   "source": [
    "So we saw the connection between the number of reviews and the cities. We found that the larger the city, the more reviews. Now we need to introduce a new variable that displays the size of the city - this is the number of population"
   ]
  },
  {
   "cell_type": "code",
   "execution_count": 27,
   "id": "outside-deficit",
   "metadata": {
    "execution": {
     "iopub.execute_input": "2021-05-23T08:39:47.763244Z",
     "iopub.status.busy": "2021-05-23T08:39:47.762165Z",
     "iopub.status.idle": "2021-05-23T08:39:47.767474Z",
     "shell.execute_reply": "2021-05-23T08:39:47.766912Z"
    },
    "papermill": {
     "duration": 0.076958,
     "end_time": "2021-05-23T08:39:47.767656",
     "exception": false,
     "start_time": "2021-05-23T08:39:47.690698",
     "status": "completed"
    },
    "tags": []
   },
   "outputs": [],
   "source": [
    "population_size = {'Warsaw' : 1793579,\n",
    "    'Dublin' : 554554,\n",
    "    'Copenhagen' : 794128,\n",
    "    'Athens' : 664046,\n",
    "    'Edinburgh' : 488050, \n",
    "    'Zurich' : 415215,\n",
    "    'Oporto' : 287591,\n",
    "    'Geneva' : 201818, \n",
    "    'Krakow' : 779115, \n",
    "    'Oslo' : 697549, \n",
    "    'Helsinki' : 656229,\n",
    "    'Bratislava' : 437726,\n",
    "    'Luxembourg' : 626108,\n",
    "    'Ljubljana' : 295504,\n",
    "    'London' : 8909081,\n",
    "    'Paris' : 2148271,\n",
    "    'Madrid' : 3223334,\n",
    "    'Barcelona' : 1620343,\n",
    "    'Berlin' : 3769495,\n",
    "    'Milan' : 1399860,\n",
    "    'Rome' : 2860009,\n",
    "    'Prague' : 1324277,\n",
    "    'Lisbon' : 505526,\n",
    "    'Vienna' : 2600000,\n",
    "    'Amsterdam' : 872680,\n",
    "    'Brussels' : 1208542,\n",
    "    'Hamburg' : 1845229,\n",
    "    'Munich' : 1484226,\n",
    "    'Lyon' : 516092,\n",
    "    'Stockholm' : 975904,\n",
    "    'Budapest' : 1752286}\n",
    "df['population_size'] = df.City.map(population_size)"
   ]
  },
  {
   "cell_type": "markdown",
   "id": "further-environment",
   "metadata": {
    "papermill": {
     "duration": 0.053698,
     "end_time": "2021-05-23T08:39:47.876645",
     "exception": false,
     "start_time": "2021-05-23T08:39:47.822947",
     "status": "completed"
    },
    "tags": []
   },
   "source": [
    "***Сreate a sign: purchasing power index***"
   ]
  },
  {
   "cell_type": "code",
   "execution_count": 28,
   "id": "appreciated-secretariat",
   "metadata": {
    "execution": {
     "iopub.execute_input": "2021-05-23T08:39:47.988022Z",
     "iopub.status.busy": "2021-05-23T08:39:47.987392Z",
     "iopub.status.idle": "2021-05-23T08:39:48.003157Z",
     "shell.execute_reply": "2021-05-23T08:39:48.003684Z"
    },
    "papermill": {
     "duration": 0.073299,
     "end_time": "2021-05-23T08:39:48.003865",
     "exception": false,
     "start_time": "2021-05-23T08:39:47.930566",
     "status": "completed"
    },
    "tags": []
   },
   "outputs": [],
   "source": [
    "index_pp = {'Geneva' : 3, \n",
    "    'Krakow' : 36, \n",
    "    'Oslo' : 17, \n",
    "    'Helsinki' : 9,\n",
    "    'Bratislava' : 39,\n",
    "    'Luxembourg' : 4,\n",
    "    'Ljubljana' : 32,\n",
    "    'Stockholm' : 13,\n",
    "    'Budapest' : 51,\n",
    "    'Warsaw' : 29,\n",
    "    'Dublin' : 27,\n",
    "    'Copenhagen' : 10,\n",
    "    'Athens' : 53,\n",
    "    'Edinburgh' : 16, \n",
    "    'Zurich' : 2,\n",
    "    'Oporto' : 42,\n",
    "    'London' : 24,\n",
    "    'Paris' : 22,\n",
    "    'Madrid' : 23,\n",
    "    'Barcelona' : 30,\n",
    "    'Berlin' : 8,\n",
    "    'Milan' : 40,\n",
    "    'Rome' : 37,\n",
    "    'Prague' : 31,\n",
    "    'Lisbon' : 48,\n",
    "    'Vienna' : 21,\n",
    "    'Amsterdam' : 19,\n",
    "    'Brussels' : 15,\n",
    "    'Hamburg' : 7,\n",
    "    'Munich' : 6,\n",
    "    'Lyon' : 70,}\n",
    "\n",
    "df['index_pp'] = df.City.map(index_pp)"
   ]
  },
  {
   "cell_type": "markdown",
   "id": "extreme-designation",
   "metadata": {
    "papermill": {
     "duration": 0.053764,
     "end_time": "2021-05-23T08:39:48.111862",
     "exception": false,
     "start_time": "2021-05-23T08:39:48.058098",
     "status": "completed"
    },
    "tags": []
   },
   "source": [
    "***Create a variable number of restaurants in the city***"
   ]
  },
  {
   "cell_type": "code",
   "execution_count": 29,
   "id": "decent-industry",
   "metadata": {
    "execution": {
     "iopub.execute_input": "2021-05-23T08:39:48.223131Z",
     "iopub.status.busy": "2021-05-23T08:39:48.222482Z",
     "iopub.status.idle": "2021-05-23T08:39:48.240327Z",
     "shell.execute_reply": "2021-05-23T08:39:48.240855Z"
    },
    "papermill": {
     "duration": 0.074983,
     "end_time": "2021-05-23T08:39:48.241030",
     "exception": false,
     "start_time": "2021-05-23T08:39:48.166047",
     "status": "completed"
    },
    "tags": []
   },
   "outputs": [],
   "source": [
    "# number of restaurants in the city\n",
    "restaurants_count_city = df.groupby('City')['Ranking'].count().to_dict()\n",
    "df['restaurants_count_city'] = df['City'].map(restaurants_count_city)"
   ]
  },
  {
   "cell_type": "markdown",
   "id": "regional-final",
   "metadata": {
    "papermill": {
     "duration": 0.054232,
     "end_time": "2021-05-23T08:39:48.349853",
     "exception": false,
     "start_time": "2021-05-23T08:39:48.295621",
     "status": "completed"
    },
    "tags": []
   },
   "source": [
    "***Create a variable for the dependence of the number of restaurants on the population***"
   ]
  },
  {
   "cell_type": "code",
   "execution_count": 30,
   "id": "christian-aluminum",
   "metadata": {
    "execution": {
     "iopub.execute_input": "2021-05-23T08:39:48.463839Z",
     "iopub.status.busy": "2021-05-23T08:39:48.463164Z",
     "iopub.status.idle": "2021-05-23T08:39:48.603347Z",
     "shell.execute_reply": "2021-05-23T08:39:48.603935Z"
    },
    "papermill": {
     "duration": 0.198629,
     "end_time": "2021-05-23T08:39:48.604117",
     "exception": false,
     "start_time": "2021-05-23T08:39:48.405488",
     "status": "completed"
    },
    "tags": []
   },
   "outputs": [],
   "source": [
    "# Сalculate the number of restaurants per 1000 people for the city\n",
    "df['restaurants_population'] = df['restaurants_count_city'] / (df['population_size']/1000)"
   ]
  },
  {
   "cell_type": "markdown",
   "id": "neutral-rating",
   "metadata": {
    "papermill": {
     "duration": 0.054319,
     "end_time": "2021-05-23T08:39:48.714233",
     "exception": false,
     "start_time": "2021-05-23T08:39:48.659914",
     "status": "completed"
    },
    "tags": []
   },
   "source": [
    "***Create dummy variables from the column 'City'***"
   ]
  },
  {
   "cell_type": "code",
   "execution_count": 31,
   "id": "preceding-hierarchy",
   "metadata": {
    "execution": {
     "iopub.execute_input": "2021-05-23T08:39:48.829901Z",
     "iopub.status.busy": "2021-05-23T08:39:48.829249Z",
     "iopub.status.idle": "2021-05-23T08:39:50.022738Z",
     "shell.execute_reply": "2021-05-23T08:39:50.021999Z"
    },
    "papermill": {
     "duration": 1.252237,
     "end_time": "2021-05-23T08:39:50.022894",
     "exception": false,
     "start_time": "2021-05-23T08:39:48.770657",
     "status": "completed"
    },
    "tags": []
   },
   "outputs": [],
   "source": [
    "df = pd.get_dummies(df, columns=['City'], dummy_na=True)"
   ]
  },
  {
   "cell_type": "code",
   "execution_count": 32,
   "id": "printable-protocol",
   "metadata": {
    "execution": {
     "iopub.execute_input": "2021-05-23T08:39:50.141276Z",
     "iopub.status.busy": "2021-05-23T08:39:50.140627Z",
     "iopub.status.idle": "2021-05-23T08:39:50.806646Z",
     "shell.execute_reply": "2021-05-23T08:39:50.807161Z"
    },
    "papermill": {
     "duration": 0.725945,
     "end_time": "2021-05-23T08:39:50.807348",
     "exception": false,
     "start_time": "2021-05-23T08:39:50.081403",
     "status": "completed"
    },
    "tags": []
   },
   "outputs": [
    {
     "name": "stdout",
     "output_type": "stream",
     "text": [
      "<class 'pandas.core.frame.DataFrame'>\n",
      "RangeIndex: 50000 entries, 0 to 49999\n",
      "Columns: 10781 entries, Restaurant_id to City_nan\n",
      "dtypes: float64(7), int64(4), object(5), uint8(10765)\n",
      "memory usage: 519.4+ MB\n"
     ]
    }
   ],
   "source": [
    "df.info()"
   ]
  },
  {
   "cell_type": "code",
   "execution_count": 33,
   "id": "extra-blake",
   "metadata": {
    "execution": {
     "iopub.execute_input": "2021-05-23T08:39:50.925013Z",
     "iopub.status.busy": "2021-05-23T08:39:50.924304Z",
     "iopub.status.idle": "2021-05-23T08:39:51.833572Z",
     "shell.execute_reply": "2021-05-23T08:39:51.832991Z"
    },
    "papermill": {
     "duration": 0.969808,
     "end_time": "2021-05-23T08:39:51.833743",
     "exception": false,
     "start_time": "2021-05-23T08:39:50.863935",
     "status": "completed"
    },
    "tags": []
   },
   "outputs": [],
   "source": [
    "df_preproc = df.drop(['Restaurant_id', 'Reviews', 'URL_TA', 'ID_TA', 'date_review'], axis=1)"
   ]
  },
  {
   "cell_type": "code",
   "execution_count": 34,
   "id": "caroline-burner",
   "metadata": {
    "execution": {
     "iopub.execute_input": "2021-05-23T08:39:51.948866Z",
     "iopub.status.busy": "2021-05-23T08:39:51.948231Z",
     "iopub.status.idle": "2021-05-23T08:39:52.564248Z",
     "shell.execute_reply": "2021-05-23T08:39:52.564724Z"
    },
    "papermill": {
     "duration": 0.675025,
     "end_time": "2021-05-23T08:39:52.564902",
     "exception": false,
     "start_time": "2021-05-23T08:39:51.889877",
     "status": "completed"
    },
    "tags": []
   },
   "outputs": [
    {
     "name": "stdout",
     "output_type": "stream",
     "text": [
      "<class 'pandas.core.frame.DataFrame'>\n",
      "RangeIndex: 50000 entries, 0 to 49999\n",
      "Columns: 10776 entries, Ranking to City_nan\n",
      "dtypes: float64(7), int64(4), uint8(10765)\n",
      "memory usage: 517.5 MB\n"
     ]
    }
   ],
   "source": [
    "df_preproc.info()"
   ]
  },
  {
   "cell_type": "code",
   "execution_count": 35,
   "id": "loaded-forum",
   "metadata": {
    "execution": {
     "iopub.execute_input": "2021-05-23T08:39:52.686468Z",
     "iopub.status.busy": "2021-05-23T08:39:52.685795Z",
     "iopub.status.idle": "2021-05-23T08:39:58.942609Z",
     "shell.execute_reply": "2021-05-23T08:39:58.942056Z"
    },
    "papermill": {
     "duration": 6.319298,
     "end_time": "2021-05-23T08:39:58.942766",
     "exception": false,
     "start_time": "2021-05-23T08:39:52.623468",
     "status": "completed"
    },
    "tags": []
   },
   "outputs": [],
   "source": [
    "# select the test part\n",
    "train_data = df_preproc.query('sample == 1').drop(['sample'], axis=1)\n",
    "test_data = df_preproc.query('sample == 0').drop(['sample'], axis=1)\n",
    "\n",
    "y = train_data.Rating.values            # target variable\n",
    "X = train_data.drop(['Rating'], axis=1)"
   ]
  },
  {
   "cell_type": "markdown",
   "id": "applied-bones",
   "metadata": {
    "papermill": {
     "duration": 0.057495,
     "end_time": "2021-05-23T08:39:59.057661",
     "exception": false,
     "start_time": "2021-05-23T08:39:59.000166",
     "status": "completed"
    },
    "tags": []
   },
   "source": [
    "Before sending our data for training, let's divide the data into one more test and train for validation. This will help us test how well our model is performing before submitting the submissiona to kaggle"
   ]
  },
  {
   "cell_type": "code",
   "execution_count": 36,
   "id": "appropriate-cruise",
   "metadata": {
    "execution": {
     "iopub.execute_input": "2021-05-23T08:39:59.179145Z",
     "iopub.status.busy": "2021-05-23T08:39:59.178429Z",
     "iopub.status.idle": "2021-05-23T08:40:01.582865Z",
     "shell.execute_reply": "2021-05-23T08:40:01.582305Z"
    },
    "papermill": {
     "duration": 2.468048,
     "end_time": "2021-05-23T08:40:01.583018",
     "exception": false,
     "start_time": "2021-05-23T08:39:59.114970",
     "status": "completed"
    },
    "tags": []
   },
   "outputs": [],
   "source": [
    "# Let's use the special function train_test_split to split test data\n",
    "# allocate 25% of the data for validation (parameter test_size)\n",
    "X_train, X_test, y_train, y_test = train_test_split(X, y, test_size=0.25, random_state=RANDOM_SEED)"
   ]
  },
  {
   "cell_type": "code",
   "execution_count": 37,
   "id": "gorgeous-scientist",
   "metadata": {
    "execution": {
     "iopub.execute_input": "2021-05-23T08:40:01.704191Z",
     "iopub.status.busy": "2021-05-23T08:40:01.703292Z",
     "iopub.status.idle": "2021-05-23T08:40:01.706945Z",
     "shell.execute_reply": "2021-05-23T08:40:01.707375Z"
    },
    "papermill": {
     "duration": 0.066416,
     "end_time": "2021-05-23T08:40:01.707563",
     "exception": false,
     "start_time": "2021-05-23T08:40:01.641147",
     "status": "completed"
    },
    "tags": []
   },
   "outputs": [
    {
     "data": {
      "text/plain": [
       "((10000, 10775),\n",
       " (40000, 10775),\n",
       " (40000, 10774),\n",
       " (30000, 10774),\n",
       " (10000, 10774))"
      ]
     },
     "execution_count": 37,
     "metadata": {},
     "output_type": "execute_result"
    }
   ],
   "source": [
    "# check\n",
    "test_data.shape, train_data.shape, X.shape, X_train.shape, X_test.shape"
   ]
  },
  {
   "cell_type": "code",
   "execution_count": 38,
   "id": "unnecessary-humor",
   "metadata": {
    "execution": {
     "iopub.execute_input": "2021-05-23T08:40:01.825976Z",
     "iopub.status.busy": "2021-05-23T08:40:01.825029Z",
     "iopub.status.idle": "2021-05-23T08:40:02.065489Z",
     "shell.execute_reply": "2021-05-23T08:40:02.064926Z"
    },
    "papermill": {
     "duration": 0.300692,
     "end_time": "2021-05-23T08:40:02.065646",
     "exception": false,
     "start_time": "2021-05-23T08:40:01.764954",
     "status": "completed"
    },
    "tags": []
   },
   "outputs": [],
   "source": [
    "# Import the required libraries\n",
    "from sklearn.ensemble import RandomForestRegressor # tool for creating and training a model\n",
    "from sklearn import metrics # model accuracy assessment tool"
   ]
  },
  {
   "cell_type": "code",
   "execution_count": 39,
   "id": "adult-vaccine",
   "metadata": {
    "execution": {
     "iopub.execute_input": "2021-05-23T08:40:02.186822Z",
     "iopub.status.busy": "2021-05-23T08:40:02.185942Z",
     "iopub.status.idle": "2021-05-23T08:40:02.188380Z",
     "shell.execute_reply": "2021-05-23T08:40:02.188900Z"
    },
    "papermill": {
     "duration": 0.065383,
     "end_time": "2021-05-23T08:40:02.189079",
     "exception": false,
     "start_time": "2021-05-23T08:40:02.123696",
     "status": "completed"
    },
    "tags": []
   },
   "outputs": [],
   "source": [
    "# Create a model\n",
    "model = RandomForestRegressor(n_estimators=100, verbose=1, n_jobs=-1, random_state=RANDOM_SEED)"
   ]
  },
  {
   "cell_type": "code",
   "execution_count": 40,
   "id": "developing-forward",
   "metadata": {
    "execution": {
     "iopub.execute_input": "2021-05-23T08:40:02.308877Z",
     "iopub.status.busy": "2021-05-23T08:40:02.308121Z",
     "iopub.status.idle": "2021-05-23T08:42:36.356456Z",
     "shell.execute_reply": "2021-05-23T08:42:36.357022Z"
    },
    "papermill": {
     "duration": 154.110546,
     "end_time": "2021-05-23T08:42:36.357248",
     "exception": false,
     "start_time": "2021-05-23T08:40:02.246702",
     "status": "completed"
    },
    "tags": []
   },
   "outputs": [
    {
     "name": "stderr",
     "output_type": "stream",
     "text": [
      "[Parallel(n_jobs=-1)]: Using backend ThreadingBackend with 4 concurrent workers.\n",
      "[Parallel(n_jobs=-1)]: Done  42 tasks      | elapsed:  1.1min\n",
      "[Parallel(n_jobs=-1)]: Done 100 out of 100 | elapsed:  2.5min finished\n",
      "[Parallel(n_jobs=4)]: Using backend ThreadingBackend with 4 concurrent workers.\n",
      "[Parallel(n_jobs=4)]: Done  42 tasks      | elapsed:    0.1s\n",
      "[Parallel(n_jobs=4)]: Done 100 out of 100 | elapsed:    0.1s finished\n"
     ]
    }
   ],
   "source": [
    "# Train the model on a test dataset\n",
    "model.fit(X_train, y_train)\n",
    "\n",
    "# Use a trained model to predict restaurant ratings in a test sample\n",
    "# write the predicted values into the y_pred variable\n",
    "y_pred = model.predict(X_test)"
   ]
  },
  {
   "cell_type": "code",
   "execution_count": 41,
   "id": "encouraging-interim",
   "metadata": {
    "execution": {
     "iopub.execute_input": "2021-05-23T08:42:36.491622Z",
     "iopub.status.busy": "2021-05-23T08:42:36.490485Z",
     "iopub.status.idle": "2021-05-23T08:42:36.497771Z",
     "shell.execute_reply": "2021-05-23T08:42:36.498884Z"
    },
    "papermill": {
     "duration": 0.079262,
     "end_time": "2021-05-23T08:42:36.499390",
     "exception": false,
     "start_time": "2021-05-23T08:42:36.420128",
     "status": "completed"
    },
    "tags": []
   },
   "outputs": [
    {
     "name": "stdout",
     "output_type": "stream",
     "text": [
      "MAE: 0.20389249999999998\n"
     ]
    }
   ],
   "source": [
    "# Compare the predicted values (y_pred) with the real ones (y_test), and see how much they differ on average\n",
    "# The metric is called the Mean Absolute Error (MAE) and shows the average deviation of the predicted values from the actual ones\n",
    "print('MAE:', metrics.mean_absolute_error(y_test, y_pred))"
   ]
  },
  {
   "cell_type": "code",
   "execution_count": 42,
   "id": "incident-reader",
   "metadata": {
    "execution": {
     "iopub.execute_input": "2021-05-23T08:42:36.632662Z",
     "iopub.status.busy": "2021-05-23T08:42:36.631558Z",
     "iopub.status.idle": "2021-05-23T08:42:37.030729Z",
     "shell.execute_reply": "2021-05-23T08:42:37.031214Z"
    },
    "papermill": {
     "duration": 0.467738,
     "end_time": "2021-05-23T08:42:37.031428",
     "exception": false,
     "start_time": "2021-05-23T08:42:36.563690",
     "status": "completed"
    },
    "tags": []
   },
   "outputs": [
    {
     "data": {
      "text/plain": [
       "<AxesSubplot:>"
      ]
     },
     "execution_count": 42,
     "metadata": {},
     "output_type": "execute_result"
    },
    {
     "data": {
      "image/png": "[encoded data removed]",
      "text/plain": [
       "<Figure size 720x720 with 1 Axes>"
      ]
     },
     "metadata": {
      "needs_background": "light"
     },
     "output_type": "display_data"
    }
   ],
   "source": [
    "# In RandomForestRegressor it is possible to display the most important features for the model\n",
    "plt.rcParams['figure.figsize'] = (10,10)\n",
    "feat_importances = pd.Series(model.feature_importances_, index=X.columns)\n",
    "feat_importances.nlargest(15).plot(kind='barh')"
   ]
  },
  {
   "cell_type": "markdown",
   "id": "numerous-provision",
   "metadata": {
    "papermill": {
     "duration": 0.07078,
     "end_time": "2021-05-23T08:42:37.183763",
     "exception": false,
     "start_time": "2021-05-23T08:42:37.112983",
     "status": "completed"
    },
    "tags": []
   },
   "source": [
    "**Submission**"
   ]
  },
  {
   "cell_type": "code",
   "execution_count": 43,
   "id": "advisory-aruba",
   "metadata": {
    "execution": {
     "iopub.execute_input": "2021-05-23T08:42:37.339242Z",
     "iopub.status.busy": "2021-05-23T08:42:37.338322Z",
     "iopub.status.idle": "2021-05-23T08:42:37.381020Z",
     "shell.execute_reply": "2021-05-23T08:42:37.381595Z"
    },
    "papermill": {
     "duration": 0.125704,
     "end_time": "2021-05-23T08:42:37.381790",
     "exception": false,
     "start_time": "2021-05-23T08:42:37.256086",
     "status": "completed"
    },
    "tags": []
   },
   "outputs": [
    {
     "data": {
      "text/html": [
       "<div>\n",
       "<style scoped>\n",
       "    .dataframe tbody tr th:only-of-type {\n",
       "        vertical-align: middle;\n",
       "    }\n",
       "\n",
       "    .dataframe tbody tr th {\n",
       "        vertical-align: top;\n",
       "    }\n",
       "\n",
       "    .dataframe thead th {\n",
       "        text-align: right;\n",
       "    }\n",
       "</style>\n",
       "<table border=\"1\" class=\"dataframe\">\n",
       "  <thead>\n",
       "    <tr style=\"text-align: right;\">\n",
       "      <th></th>\n",
       "      <th>Ranking</th>\n",
       "      <th>Price Range</th>\n",
       "      <th>Number of Reviews</th>\n",
       "      <th>Rating</th>\n",
       "      <th>Cuisine Style_Afghani,Middle Eastern,Vegetarian Friendly</th>\n",
       "      <th>Cuisine Style_Afghani,Middle Eastern,Vegetarian Friendly,Halal</th>\n",
       "      <th>Cuisine Style_Afghani,Middle Eastern,Vegetarian Friendly,Vegan Options,Halal</th>\n",
       "      <th>Cuisine Style_African</th>\n",
       "      <th>Cuisine Style_African,Asian,International,Native American,American,Bangladeshi,Vegetarian Friendly</th>\n",
       "      <th>Cuisine Style_African,Bar,Barbecue,Grill,Pub,Fusion,Wine Bar</th>\n",
       "      <th>...</th>\n",
       "      <th>City_Oporto</th>\n",
       "      <th>City_Oslo</th>\n",
       "      <th>City_Paris</th>\n",
       "      <th>City_Prague</th>\n",
       "      <th>City_Rome</th>\n",
       "      <th>City_Stockholm</th>\n",
       "      <th>City_Vienna</th>\n",
       "      <th>City_Warsaw</th>\n",
       "      <th>City_Zurich</th>\n",
       "      <th>City_nan</th>\n",
       "    </tr>\n",
       "  </thead>\n",
       "  <tbody>\n",
       "    <tr>\n",
       "      <th>6050</th>\n",
       "      <td>1400.0</td>\n",
       "      <td>3.0</td>\n",
       "      <td>7.0</td>\n",
       "      <td>0.0</td>\n",
       "      <td>0</td>\n",
       "      <td>0</td>\n",
       "      <td>0</td>\n",
       "      <td>0</td>\n",
       "      <td>0</td>\n",
       "      <td>0</td>\n",
       "      <td>...</td>\n",
       "      <td>0</td>\n",
       "      <td>0</td>\n",
       "      <td>0</td>\n",
       "      <td>0</td>\n",
       "      <td>0</td>\n",
       "      <td>0</td>\n",
       "      <td>0</td>\n",
       "      <td>0</td>\n",
       "      <td>0</td>\n",
       "      <td>0</td>\n",
       "    </tr>\n",
       "    <tr>\n",
       "      <th>7717</th>\n",
       "      <td>1005.0</td>\n",
       "      <td>1.0</td>\n",
       "      <td>18.0</td>\n",
       "      <td>0.0</td>\n",
       "      <td>0</td>\n",
       "      <td>0</td>\n",
       "      <td>0</td>\n",
       "      <td>0</td>\n",
       "      <td>0</td>\n",
       "      <td>0</td>\n",
       "      <td>...</td>\n",
       "      <td>0</td>\n",
       "      <td>0</td>\n",
       "      <td>0</td>\n",
       "      <td>0</td>\n",
       "      <td>0</td>\n",
       "      <td>0</td>\n",
       "      <td>0</td>\n",
       "      <td>0</td>\n",
       "      <td>0</td>\n",
       "      <td>0</td>\n",
       "    </tr>\n",
       "    <tr>\n",
       "      <th>8254</th>\n",
       "      <td>5702.0</td>\n",
       "      <td>2.0</td>\n",
       "      <td>9.0</td>\n",
       "      <td>0.0</td>\n",
       "      <td>0</td>\n",
       "      <td>0</td>\n",
       "      <td>0</td>\n",
       "      <td>0</td>\n",
       "      <td>0</td>\n",
       "      <td>0</td>\n",
       "      <td>...</td>\n",
       "      <td>0</td>\n",
       "      <td>0</td>\n",
       "      <td>0</td>\n",
       "      <td>0</td>\n",
       "      <td>0</td>\n",
       "      <td>0</td>\n",
       "      <td>0</td>\n",
       "      <td>0</td>\n",
       "      <td>0</td>\n",
       "      <td>0</td>\n",
       "    </tr>\n",
       "    <tr>\n",
       "      <th>3629</th>\n",
       "      <td>1213.0</td>\n",
       "      <td>1.0</td>\n",
       "      <td>66.0</td>\n",
       "      <td>0.0</td>\n",
       "      <td>0</td>\n",
       "      <td>0</td>\n",
       "      <td>0</td>\n",
       "      <td>0</td>\n",
       "      <td>0</td>\n",
       "      <td>0</td>\n",
       "      <td>...</td>\n",
       "      <td>0</td>\n",
       "      <td>0</td>\n",
       "      <td>0</td>\n",
       "      <td>0</td>\n",
       "      <td>0</td>\n",
       "      <td>0</td>\n",
       "      <td>0</td>\n",
       "      <td>0</td>\n",
       "      <td>0</td>\n",
       "      <td>0</td>\n",
       "    </tr>\n",
       "    <tr>\n",
       "      <th>931</th>\n",
       "      <td>4164.0</td>\n",
       "      <td>2.0</td>\n",
       "      <td>25.0</td>\n",
       "      <td>0.0</td>\n",
       "      <td>0</td>\n",
       "      <td>0</td>\n",
       "      <td>0</td>\n",
       "      <td>0</td>\n",
       "      <td>0</td>\n",
       "      <td>0</td>\n",
       "      <td>...</td>\n",
       "      <td>0</td>\n",
       "      <td>0</td>\n",
       "      <td>0</td>\n",
       "      <td>0</td>\n",
       "      <td>0</td>\n",
       "      <td>0</td>\n",
       "      <td>0</td>\n",
       "      <td>0</td>\n",
       "      <td>0</td>\n",
       "      <td>0</td>\n",
       "    </tr>\n",
       "    <tr>\n",
       "      <th>4663</th>\n",
       "      <td>1342.0</td>\n",
       "      <td>2.0</td>\n",
       "      <td>3.0</td>\n",
       "      <td>0.0</td>\n",
       "      <td>0</td>\n",
       "      <td>0</td>\n",
       "      <td>0</td>\n",
       "      <td>0</td>\n",
       "      <td>0</td>\n",
       "      <td>0</td>\n",
       "      <td>...</td>\n",
       "      <td>0</td>\n",
       "      <td>0</td>\n",
       "      <td>0</td>\n",
       "      <td>0</td>\n",
       "      <td>0</td>\n",
       "      <td>0</td>\n",
       "      <td>0</td>\n",
       "      <td>0</td>\n",
       "      <td>1</td>\n",
       "      <td>0</td>\n",
       "    </tr>\n",
       "    <tr>\n",
       "      <th>7061</th>\n",
       "      <td>107.0</td>\n",
       "      <td>3.0</td>\n",
       "      <td>112.0</td>\n",
       "      <td>0.0</td>\n",
       "      <td>0</td>\n",
       "      <td>0</td>\n",
       "      <td>0</td>\n",
       "      <td>0</td>\n",
       "      <td>0</td>\n",
       "      <td>0</td>\n",
       "      <td>...</td>\n",
       "      <td>0</td>\n",
       "      <td>0</td>\n",
       "      <td>1</td>\n",
       "      <td>0</td>\n",
       "      <td>0</td>\n",
       "      <td>0</td>\n",
       "      <td>0</td>\n",
       "      <td>0</td>\n",
       "      <td>0</td>\n",
       "      <td>0</td>\n",
       "    </tr>\n",
       "    <tr>\n",
       "      <th>9280</th>\n",
       "      <td>7770.0</td>\n",
       "      <td>2.0</td>\n",
       "      <td>7.0</td>\n",
       "      <td>0.0</td>\n",
       "      <td>0</td>\n",
       "      <td>0</td>\n",
       "      <td>0</td>\n",
       "      <td>0</td>\n",
       "      <td>0</td>\n",
       "      <td>0</td>\n",
       "      <td>...</td>\n",
       "      <td>0</td>\n",
       "      <td>0</td>\n",
       "      <td>1</td>\n",
       "      <td>0</td>\n",
       "      <td>0</td>\n",
       "      <td>0</td>\n",
       "      <td>0</td>\n",
       "      <td>0</td>\n",
       "      <td>0</td>\n",
       "      <td>0</td>\n",
       "    </tr>\n",
       "    <tr>\n",
       "      <th>5490</th>\n",
       "      <td>13393.0</td>\n",
       "      <td>2.0</td>\n",
       "      <td>7.0</td>\n",
       "      <td>0.0</td>\n",
       "      <td>0</td>\n",
       "      <td>0</td>\n",
       "      <td>0</td>\n",
       "      <td>0</td>\n",
       "      <td>0</td>\n",
       "      <td>0</td>\n",
       "      <td>...</td>\n",
       "      <td>0</td>\n",
       "      <td>0</td>\n",
       "      <td>0</td>\n",
       "      <td>0</td>\n",
       "      <td>0</td>\n",
       "      <td>0</td>\n",
       "      <td>0</td>\n",
       "      <td>0</td>\n",
       "      <td>0</td>\n",
       "      <td>0</td>\n",
       "    </tr>\n",
       "    <tr>\n",
       "      <th>7399</th>\n",
       "      <td>1755.0</td>\n",
       "      <td>2.0</td>\n",
       "      <td>29.0</td>\n",
       "      <td>0.0</td>\n",
       "      <td>0</td>\n",
       "      <td>0</td>\n",
       "      <td>0</td>\n",
       "      <td>0</td>\n",
       "      <td>0</td>\n",
       "      <td>0</td>\n",
       "      <td>...</td>\n",
       "      <td>0</td>\n",
       "      <td>0</td>\n",
       "      <td>0</td>\n",
       "      <td>0</td>\n",
       "      <td>0</td>\n",
       "      <td>0</td>\n",
       "      <td>0</td>\n",
       "      <td>0</td>\n",
       "      <td>0</td>\n",
       "      <td>0</td>\n",
       "    </tr>\n",
       "  </tbody>\n",
       "</table>\n",
       "<p>10 rows × 10775 columns</p>\n",
       "</div>"
      ],
      "text/plain": [
       "      Ranking  Price Range  Number of Reviews  Rating  \\\n",
       "6050   1400.0          3.0                7.0     0.0   \n",
       "7717   1005.0          1.0               18.0     0.0   \n",
       "8254   5702.0          2.0                9.0     0.0   \n",
       "3629   1213.0          1.0               66.0     0.0   \n",
       "931    4164.0          2.0               25.0     0.0   \n",
       "4663   1342.0          2.0                3.0     0.0   \n",
       "7061    107.0          3.0              112.0     0.0   \n",
       "9280   7770.0          2.0                7.0     0.0   \n",
       "5490  13393.0          2.0                7.0     0.0   \n",
       "7399   1755.0          2.0               29.0     0.0   \n",
       "\n",
       "      Cuisine Style_Afghani,Middle Eastern,Vegetarian Friendly  \\\n",
       "6050                                                  0          \n",
       "7717                                                  0          \n",
       "8254                                                  0          \n",
       "3629                                                  0          \n",
       "931                                                   0          \n",
       "4663                                                  0          \n",
       "7061                                                  0          \n",
       "9280                                                  0          \n",
       "5490                                                  0          \n",
       "7399                                                  0          \n",
       "\n",
       "      Cuisine Style_Afghani,Middle Eastern,Vegetarian Friendly,Halal  \\\n",
       "6050                                                  0                \n",
       "7717                                                  0                \n",
       "8254                                                  0                \n",
       "3629                                                  0                \n",
       "931                                                   0                \n",
       "4663                                                  0                \n",
       "7061                                                  0                \n",
       "9280                                                  0                \n",
       "5490                                                  0                \n",
       "7399                                                  0                \n",
       "\n",
       "      Cuisine Style_Afghani,Middle Eastern,Vegetarian Friendly,Vegan Options,Halal  \\\n",
       "6050                                                  0                              \n",
       "7717                                                  0                              \n",
       "8254                                                  0                              \n",
       "3629                                                  0                              \n",
       "931                                                   0                              \n",
       "4663                                                  0                              \n",
       "7061                                                  0                              \n",
       "9280                                                  0                              \n",
       "5490                                                  0                              \n",
       "7399                                                  0                              \n",
       "\n",
       "      Cuisine Style_African  \\\n",
       "6050                      0   \n",
       "7717                      0   \n",
       "8254                      0   \n",
       "3629                      0   \n",
       "931                       0   \n",
       "4663                      0   \n",
       "7061                      0   \n",
       "9280                      0   \n",
       "5490                      0   \n",
       "7399                      0   \n",
       "\n",
       "      Cuisine Style_African,Asian,International,Native American,American,Bangladeshi,Vegetarian Friendly  \\\n",
       "6050                                                  0                                                    \n",
       "7717                                                  0                                                    \n",
       "8254                                                  0                                                    \n",
       "3629                                                  0                                                    \n",
       "931                                                   0                                                    \n",
       "4663                                                  0                                                    \n",
       "7061                                                  0                                                    \n",
       "9280                                                  0                                                    \n",
       "5490                                                  0                                                    \n",
       "7399                                                  0                                                    \n",
       "\n",
       "      Cuisine Style_African,Bar,Barbecue,Grill,Pub,Fusion,Wine Bar  ...  \\\n",
       "6050                                                  0             ...   \n",
       "7717                                                  0             ...   \n",
       "8254                                                  0             ...   \n",
       "3629                                                  0             ...   \n",
       "931                                                   0             ...   \n",
       "4663                                                  0             ...   \n",
       "7061                                                  0             ...   \n",
       "9280                                                  0             ...   \n",
       "5490                                                  0             ...   \n",
       "7399                                                  0             ...   \n",
       "\n",
       "      City_Oporto  City_Oslo  City_Paris  City_Prague  City_Rome  \\\n",
       "6050            0          0           0            0          0   \n",
       "7717            0          0           0            0          0   \n",
       "8254            0          0           0            0          0   \n",
       "3629            0          0           0            0          0   \n",
       "931             0          0           0            0          0   \n",
       "4663            0          0           0            0          0   \n",
       "7061            0          0           1            0          0   \n",
       "9280            0          0           1            0          0   \n",
       "5490            0          0           0            0          0   \n",
       "7399            0          0           0            0          0   \n",
       "\n",
       "      City_Stockholm  City_Vienna  City_Warsaw  City_Zurich  City_nan  \n",
       "6050               0            0            0            0         0  \n",
       "7717               0            0            0            0         0  \n",
       "8254               0            0            0            0         0  \n",
       "3629               0            0            0            0         0  \n",
       "931                0            0            0            0         0  \n",
       "4663               0            0            0            1         0  \n",
       "7061               0            0            0            0         0  \n",
       "9280               0            0            0            0         0  \n",
       "5490               0            0            0            0         0  \n",
       "7399               0            0            0            0         0  \n",
       "\n",
       "[10 rows x 10775 columns]"
      ]
     },
     "execution_count": 43,
     "metadata": {},
     "output_type": "execute_result"
    }
   ],
   "source": [
    "test_data.sample(10)"
   ]
  },
  {
   "cell_type": "code",
   "execution_count": 44,
   "id": "specific-tragedy",
   "metadata": {
    "execution": {
     "iopub.execute_input": "2021-05-23T08:42:37.523835Z",
     "iopub.status.busy": "2021-05-23T08:42:37.523117Z",
     "iopub.status.idle": "2021-05-23T08:42:37.651388Z",
     "shell.execute_reply": "2021-05-23T08:42:37.650474Z"
    },
    "papermill": {
     "duration": 0.203756,
     "end_time": "2021-05-23T08:42:37.651591",
     "exception": false,
     "start_time": "2021-05-23T08:42:37.447835",
     "status": "completed"
    },
    "tags": []
   },
   "outputs": [],
   "source": [
    "test_data = test_data.drop(['Rating'], axis=1)"
   ]
  },
  {
   "cell_type": "code",
   "execution_count": 45,
   "id": "iraqi-junior",
   "metadata": {
    "execution": {
     "iopub.execute_input": "2021-05-23T08:42:37.805811Z",
     "iopub.status.busy": "2021-05-23T08:42:37.805014Z",
     "iopub.status.idle": "2021-05-23T08:42:37.809565Z",
     "shell.execute_reply": "2021-05-23T08:42:37.808829Z"
    },
    "papermill": {
     "duration": 0.092287,
     "end_time": "2021-05-23T08:42:37.809750",
     "exception": false,
     "start_time": "2021-05-23T08:42:37.717463",
     "status": "completed"
    },
    "tags": []
   },
   "outputs": [
    {
     "data": {
      "text/html": [
       "<div>\n",
       "<style scoped>\n",
       "    .dataframe tbody tr th:only-of-type {\n",
       "        vertical-align: middle;\n",
       "    }\n",
       "\n",
       "    .dataframe tbody tr th {\n",
       "        vertical-align: top;\n",
       "    }\n",
       "\n",
       "    .dataframe thead th {\n",
       "        text-align: right;\n",
       "    }\n",
       "</style>\n",
       "<table border=\"1\" class=\"dataframe\">\n",
       "  <thead>\n",
       "    <tr style=\"text-align: right;\">\n",
       "      <th></th>\n",
       "      <th>Restaurant_id</th>\n",
       "      <th>Rating</th>\n",
       "    </tr>\n",
       "  </thead>\n",
       "  <tbody>\n",
       "    <tr>\n",
       "      <th>0</th>\n",
       "      <td>id_0</td>\n",
       "      <td>2.0</td>\n",
       "    </tr>\n",
       "    <tr>\n",
       "      <th>1</th>\n",
       "      <td>id_1</td>\n",
       "      <td>2.5</td>\n",
       "    </tr>\n",
       "    <tr>\n",
       "      <th>2</th>\n",
       "      <td>id_2</td>\n",
       "      <td>4.0</td>\n",
       "    </tr>\n",
       "    <tr>\n",
       "      <th>3</th>\n",
       "      <td>id_3</td>\n",
       "      <td>1.0</td>\n",
       "    </tr>\n",
       "    <tr>\n",
       "      <th>4</th>\n",
       "      <td>id_4</td>\n",
       "      <td>4.0</td>\n",
       "    </tr>\n",
       "    <tr>\n",
       "      <th>...</th>\n",
       "      <td>...</td>\n",
       "      <td>...</td>\n",
       "    </tr>\n",
       "    <tr>\n",
       "      <th>9995</th>\n",
       "      <td>id_9995</td>\n",
       "      <td>3.0</td>\n",
       "    </tr>\n",
       "    <tr>\n",
       "      <th>9996</th>\n",
       "      <td>id_9996</td>\n",
       "      <td>1.5</td>\n",
       "    </tr>\n",
       "    <tr>\n",
       "      <th>9997</th>\n",
       "      <td>id_9997</td>\n",
       "      <td>4.5</td>\n",
       "    </tr>\n",
       "    <tr>\n",
       "      <th>9998</th>\n",
       "      <td>id_9998</td>\n",
       "      <td>1.0</td>\n",
       "    </tr>\n",
       "    <tr>\n",
       "      <th>9999</th>\n",
       "      <td>id_9999</td>\n",
       "      <td>2.5</td>\n",
       "    </tr>\n",
       "  </tbody>\n",
       "</table>\n",
       "<p>10000 rows × 2 columns</p>\n",
       "</div>"
      ],
      "text/plain": [
       "     Restaurant_id  Rating\n",
       "0             id_0     2.0\n",
       "1             id_1     2.5\n",
       "2             id_2     4.0\n",
       "3             id_3     1.0\n",
       "4             id_4     4.0\n",
       "...            ...     ...\n",
       "9995       id_9995     3.0\n",
       "9996       id_9996     1.5\n",
       "9997       id_9997     4.5\n",
       "9998       id_9998     1.0\n",
       "9999       id_9999     2.5\n",
       "\n",
       "[10000 rows x 2 columns]"
      ]
     },
     "execution_count": 45,
     "metadata": {},
     "output_type": "execute_result"
    }
   ],
   "source": [
    "sample_submission"
   ]
  },
  {
   "cell_type": "code",
   "execution_count": 46,
   "id": "verified-trainer",
   "metadata": {
    "execution": {
     "iopub.execute_input": "2021-05-23T08:42:37.956728Z",
     "iopub.status.busy": "2021-05-23T08:42:37.955946Z",
     "iopub.status.idle": "2021-05-23T08:42:38.791492Z",
     "shell.execute_reply": "2021-05-23T08:42:38.792000Z"
    },
    "papermill": {
     "duration": 0.908546,
     "end_time": "2021-05-23T08:42:38.792209",
     "exception": false,
     "start_time": "2021-05-23T08:42:37.883663",
     "status": "completed"
    },
    "tags": []
   },
   "outputs": [
    {
     "name": "stderr",
     "output_type": "stream",
     "text": [
      "[Parallel(n_jobs=4)]: Using backend ThreadingBackend with 4 concurrent workers.\n",
      "[Parallel(n_jobs=4)]: Done  42 tasks      | elapsed:    0.1s\n",
      "[Parallel(n_jobs=4)]: Done 100 out of 100 | elapsed:    0.1s finished\n"
     ]
    }
   ],
   "source": [
    "predict_submission = model.predict(test_data)"
   ]
  },
  {
   "cell_type": "code",
   "execution_count": 47,
   "id": "aggregate-spell",
   "metadata": {
    "execution": {
     "iopub.execute_input": "2021-05-23T08:42:38.932843Z",
     "iopub.status.busy": "2021-05-23T08:42:38.931950Z",
     "iopub.status.idle": "2021-05-23T08:42:38.935601Z",
     "shell.execute_reply": "2021-05-23T08:42:38.936085Z"
    },
    "papermill": {
     "duration": 0.077884,
     "end_time": "2021-05-23T08:42:38.936267",
     "exception": false,
     "start_time": "2021-05-23T08:42:38.858383",
     "status": "completed"
    },
    "tags": []
   },
   "outputs": [
    {
     "data": {
      "text/plain": [
       "array([3.   , 4.165, 4.4  , ..., 3.03 , 4.495, 4.31 ])"
      ]
     },
     "execution_count": 47,
     "metadata": {},
     "output_type": "execute_result"
    }
   ],
   "source": [
    "predict_submission"
   ]
  },
  {
   "cell_type": "code",
   "execution_count": 48,
   "id": "eastern-finding",
   "metadata": {
    "execution": {
     "iopub.execute_input": "2021-05-23T08:42:39.077164Z",
     "iopub.status.busy": "2021-05-23T08:42:39.075486Z",
     "iopub.status.idle": "2021-05-23T08:42:39.129138Z",
     "shell.execute_reply": "2021-05-23T08:42:39.128563Z"
    },
    "papermill": {
     "duration": 0.12274,
     "end_time": "2021-05-23T08:42:39.129420",
     "exception": false,
     "start_time": "2021-05-23T08:42:39.006680",
     "status": "completed"
    },
    "tags": []
   },
   "outputs": [
    {
     "data": {
      "text/html": [
       "<div>\n",
       "<style scoped>\n",
       "    .dataframe tbody tr th:only-of-type {\n",
       "        vertical-align: middle;\n",
       "    }\n",
       "\n",
       "    .dataframe tbody tr th {\n",
       "        vertical-align: top;\n",
       "    }\n",
       "\n",
       "    .dataframe thead th {\n",
       "        text-align: right;\n",
       "    }\n",
       "</style>\n",
       "<table border=\"1\" class=\"dataframe\">\n",
       "  <thead>\n",
       "    <tr style=\"text-align: right;\">\n",
       "      <th></th>\n",
       "      <th>Restaurant_id</th>\n",
       "      <th>Rating</th>\n",
       "    </tr>\n",
       "  </thead>\n",
       "  <tbody>\n",
       "    <tr>\n",
       "      <th>0</th>\n",
       "      <td>id_0</td>\n",
       "      <td>3.000</td>\n",
       "    </tr>\n",
       "    <tr>\n",
       "      <th>1</th>\n",
       "      <td>id_1</td>\n",
       "      <td>4.165</td>\n",
       "    </tr>\n",
       "    <tr>\n",
       "      <th>2</th>\n",
       "      <td>id_2</td>\n",
       "      <td>4.400</td>\n",
       "    </tr>\n",
       "    <tr>\n",
       "      <th>3</th>\n",
       "      <td>id_3</td>\n",
       "      <td>4.285</td>\n",
       "    </tr>\n",
       "    <tr>\n",
       "      <th>4</th>\n",
       "      <td>id_4</td>\n",
       "      <td>4.480</td>\n",
       "    </tr>\n",
       "    <tr>\n",
       "      <th>5</th>\n",
       "      <td>id_5</td>\n",
       "      <td>4.415</td>\n",
       "    </tr>\n",
       "    <tr>\n",
       "      <th>6</th>\n",
       "      <td>id_6</td>\n",
       "      <td>1.905</td>\n",
       "    </tr>\n",
       "    <tr>\n",
       "      <th>7</th>\n",
       "      <td>id_7</td>\n",
       "      <td>2.485</td>\n",
       "    </tr>\n",
       "    <tr>\n",
       "      <th>8</th>\n",
       "      <td>id_8</td>\n",
       "      <td>4.300</td>\n",
       "    </tr>\n",
       "    <tr>\n",
       "      <th>9</th>\n",
       "      <td>id_9</td>\n",
       "      <td>4.680</td>\n",
       "    </tr>\n",
       "  </tbody>\n",
       "</table>\n",
       "</div>"
      ],
      "text/plain": [
       "  Restaurant_id  Rating\n",
       "0          id_0   3.000\n",
       "1          id_1   4.165\n",
       "2          id_2   4.400\n",
       "3          id_3   4.285\n",
       "4          id_4   4.480\n",
       "5          id_5   4.415\n",
       "6          id_6   1.905\n",
       "7          id_7   2.485\n",
       "8          id_8   4.300\n",
       "9          id_9   4.680"
      ]
     },
     "execution_count": 48,
     "metadata": {},
     "output_type": "execute_result"
    }
   ],
   "source": [
    "sample_submission['Rating'] = predict_submission\n",
    "sample_submission.to_csv('submission.csv', index=False)\n",
    "sample_submission.head(10)"
   ]
  },
  {
   "cell_type": "code",
   "execution_count": null,
   "id": "dried-ivory",
   "metadata": {
    "papermill": {
     "duration": 0.070883,
     "end_time": "2021-05-23T08:42:39.273019",
     "exception": false,
     "start_time": "2021-05-23T08:42:39.202136",
     "status": "completed"
    },
    "tags": []
   },
   "outputs": [],
   "source": []
  }
 ],
 "metadata": {
  "kernelspec": {
   "display_name": "Python 3",
   "language": "python",
   "name": "python3"
  },
  "language_info": {
   "codemirror_mode": {
    "name": "ipython",
    "version": 3
   },
   "file_extension": ".py",
   "mimetype": "text/x-python",
   "name": "python",
   "nbconvert_exporter": "python",
   "pygments_lexer": "ipython3",
   "version": "3.7.10"
  },
  "papermill": {
   "default_parameters": {},
   "duration": 235.00159,
   "end_time": "2021-05-23T08:42:40.875698",
   "environment_variables": {},
   "exception": null,
   "input_path": "__notebook__.ipynb",
   "output_path": "__notebook__.ipynb",
   "parameters": {},
   "start_time": "2021-05-23T08:38:45.874108",
   "version": "2.3.3"
  }
 },
 "nbformat": 4,
 "nbformat_minor": 5
}
